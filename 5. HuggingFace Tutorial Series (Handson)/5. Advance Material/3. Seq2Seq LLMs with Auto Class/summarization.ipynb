{
 "cells": [
  {
   "cell_type": "code",
   "execution_count": 1,
   "id": "cea96bf0-7fe1-4ab5-953f-0c3a05d14f21",
   "metadata": {},
   "outputs": [],
   "source": [
    "# !pip install \"transformers[sentencepiece]\""
   ]
  },
  {
   "cell_type": "code",
   "execution_count": 2,
   "id": "70044a43-7426-4699-be87-8c9d0705d8fe",
   "metadata": {},
   "outputs": [
    {
     "name": "stderr",
     "output_type": "stream",
     "text": [
      "/Users/kanavbansal/Developer/.env_jupyter/lib/python3.9/site-packages/urllib3/__init__.py:35: NotOpenSSLWarning: urllib3 v2 only supports OpenSSL 1.1.1+, currently the 'ssl' module is compiled with 'LibreSSL 2.8.3'. See: https://github.com/urllib3/urllib3/issues/3020\n",
      "  warnings.warn(\n",
      "/Users/kanavbansal/Developer/.env_jupyter/lib/python3.9/site-packages/transformers/tokenization_utils_base.py:1601: FutureWarning: `clean_up_tokenization_spaces` was not set. It will be set to `True` by default. This behavior will be depracted in transformers v4.45, and will be then set to `False` by default. For more details check this issue: https://github.com/huggingface/transformers/issues/31884\n",
      "  warnings.warn(\n"
     ]
    },
    {
     "data": {
      "application/vnd.jupyter.widget-view+json": {
       "model_id": "04a9e7ba591e47a4ae6f44cdc0964dbd",
       "version_major": 2,
       "version_minor": 0
      },
      "text/plain": [
       "pytorch_model.bin:   0%|          | 0.00/2.28G [00:00<?, ?B/s]"
      ]
     },
     "metadata": {},
     "output_type": "display_data"
    },
    {
     "name": "stderr",
     "output_type": "stream",
     "text": [
      "Some weights of PegasusForConditionalGeneration were not initialized from the model checkpoint at google/pegasus-cnn_dailymail and are newly initialized: ['model.decoder.embed_positions.weight', 'model.encoder.embed_positions.weight']\n",
      "You should probably TRAIN this model on a down-stream task to be able to use it for predictions and inference.\n"
     ]
    },
    {
     "data": {
      "application/vnd.jupyter.widget-view+json": {
       "model_id": "e0a6c1f7dd77488db1becc39a1cb0d55",
       "version_major": 2,
       "version_minor": 0
      },
      "text/plain": [
       "generation_config.json:   0%|          | 0.00/280 [00:00<?, ?B/s]"
      ]
     },
     "metadata": {},
     "output_type": "display_data"
    }
   ],
   "source": [
    "from transformers import AutoTokenizer, AutoModelForSeq2SeqLM\n",
    "\n",
    "tokenizer = AutoTokenizer.from_pretrained(\"google/pegasus-cnn_dailymail\")\n",
    "model = AutoModelForSeq2SeqLM.from_pretrained(\"google/pegasus-cnn_dailymail\")"
   ]
  },
  {
   "cell_type": "code",
   "execution_count": 3,
   "id": "3c1cdafc-01f2-433e-bf2d-7e3f70d5ed45",
   "metadata": {},
   "outputs": [],
   "source": [
    "source_text = [\"\"\"FLUX.1, launched on August 1, is offered in three distinct versions to cater to different user needs. The 'Pro' version is tailored for commercial applications, offering advanced features. For non-commercial use, the 'Dev' version is available with open weights. Additionally, there's 'Schnell' (German for 'fast' or 'quick'), a faster version of FLUX.1 with open weights, providing users with a more efficient experience.\n",
    "\n",
    "FLUX.1 is built by Black Forest Labs, an AI startup that was founded by a group of AI researchers and engineers, some of whom previously held key positions at Stability AI.\n",
    "\n",
    "FLUX.1 appears to have overcome a long-standing challenge in AI-generated images, successfully creating realistic human hands and legs. Previously, AI models struggled to accurately render human limbs due to limitations in their training data, but FLUX.1's advancements have helped bridge this gap, producing more realistic and detailed images.\n",
    "\n",
    "Currently, FLUX.1 is accessible through a limited number of platforms and tools, including Replicate, (link unavailable), and Hugging Face, which offer AI cloud hosting services. These platforms utilise a pay-per-generation model, allowing users to access FLUX.1's capabilities on a transactional basis, with more widespread availability potentially forthcoming. \n",
    "\"\"\"]"
   ]
  },
  {
   "cell_type": "code",
   "execution_count": 7,
   "id": "06e54f8a-ba42-42b8-b7bc-c76914809c90",
   "metadata": {},
   "outputs": [],
   "source": [
    "token_ids = tokenizer(source_text, \n",
    "                   truncation=True, \n",
    "                   padding=\"longest\", \n",
    "                   return_tensors=\"pt\")"
   ]
  },
  {
   "cell_type": "code",
   "execution_count": 9,
   "id": "f191b131-1ded-482c-a434-1c4d2ea29359",
   "metadata": {},
   "outputs": [
    {
     "data": {
      "text/plain": [
       "tensor([[    0,  1091, 64039,   107,   740,  2372,   112,   133,  4798,   114,\n",
       "           300,   121, 11570,  1459,   115,  5344,   121, 22932,  1055,   110,\n",
       "           107,   106, 28292,   108,  5344,  1581,  8485,   112,  7127, 11000,\n",
       "           883, 18825,   640,   112,  6244,   115,   153,   569,   335,   110,\n",
       "           107,   106,  1223, 64039,   107,   740,   131,   116, 17067,   133,\n",
       "          1543,  3405,   136,  4215,   108,  3599,   154,  5821,   111,  2067,\n",
       "          1055,   110,   107,     1]])"
      ]
     },
     "execution_count": 9,
     "metadata": {},
     "output_type": "execute_result"
    }
   ],
   "source": [
    "summarization = model.generate(**token_ids)\n",
    "\n",
    "summarization"
   ]
  },
  {
   "cell_type": "code",
   "execution_count": 11,
   "id": "a4f80af9-2844-45a7-bda0-8730df732649",
   "metadata": {},
   "outputs": [
    {
     "data": {
      "text/plain": [
       "\"<pad> FLUX.1 appears to have overcome a long-standing challenge in AI-generated images.<n>Previously, AI models struggled to accurately render human limbs due to limitations in their training data.<n>FLUX.1's advancements have helped bridge this gap, producing more realistic and detailed images.</s>\""
      ]
     },
     "execution_count": 11,
     "metadata": {},
     "output_type": "execute_result"
    }
   ],
   "source": [
    "tokenizer.decode(summarization[0], skip_special_tokens=False)"
   ]
  },
  {
   "cell_type": "code",
   "execution_count": 12,
   "id": "e38b0491-80a7-46e3-9cff-19ea89d0fa8a",
   "metadata": {},
   "outputs": [
    {
     "data": {
      "text/plain": [
       "\"FLUX.1 appears to have overcome a long-standing challenge in AI-generated images.<n>Previously, AI models struggled to accurately render human limbs due to limitations in their training data.<n>FLUX.1's advancements have helped bridge this gap, producing more realistic and detailed images.\""
      ]
     },
     "execution_count": 12,
     "metadata": {},
     "output_type": "execute_result"
    }
   ],
   "source": [
    "tokenizer.decode(summarization[0], skip_special_tokens=True)"
   ]
  },
  {
   "cell_type": "code",
   "execution_count": null,
   "id": "e07535fc-e502-4737-a594-3c50b5cfa138",
   "metadata": {},
   "outputs": [],
   "source": []
  },
  {
   "cell_type": "code",
   "execution_count": null,
   "id": "6d3e5704-23c1-4e52-9aae-b6f54ef65cdc",
   "metadata": {},
   "outputs": [],
   "source": []
  }
 ],
 "metadata": {
  "kernelspec": {
   "display_name": "Python 3 (ipykernel)",
   "language": "python",
   "name": "python3"
  },
  "language_info": {
   "codemirror_mode": {
    "name": "ipython",
    "version": 3
   },
   "file_extension": ".py",
   "mimetype": "text/x-python",
   "name": "python",
   "nbconvert_exporter": "python",
   "pygments_lexer": "ipython3",
   "version": "3.9.6"
  }
 },
 "nbformat": 4,
 "nbformat_minor": 5
}
