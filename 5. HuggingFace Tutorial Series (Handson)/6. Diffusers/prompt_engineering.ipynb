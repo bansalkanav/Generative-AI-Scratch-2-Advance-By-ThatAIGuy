{
 "cells": [
  {
   "cell_type": "markdown",
   "id": "b8d8d361-e7d7-4943-b8b6-5fc75d91ceda",
   "metadata": {},
   "source": [
    "# **Prompt Engineering with Stable Diffusion**\n",
    "\n",
    "1. Subject: A noun. Eg: A dog\n",
    "2. Description of Subject: A verb: Playing Piano\n",
    "3. Style: 3D, Picaso, oil painting, Van Gogh, Sketch, etc...\n",
    "4. Instrumentation: Camera Name, Parameters like f1.8, 50mm, etc...\n",
    "5. Quality: 4k, HD, 3D, Super Resolution, Photorealism\n",
    "\n",
    "Eg: Cinematic photo of godzilla fighting with a cat, 4k, highly detailed"
   ]
  },
  {
   "cell_type": "code",
   "execution_count": null,
   "id": "5e447d87-c066-49dc-975a-71ce366c241f",
   "metadata": {},
   "outputs": [],
   "source": []
  }
 ],
 "metadata": {
  "kernelspec": {
   "display_name": "Python 3 (ipykernel)",
   "language": "python",
   "name": "python3"
  },
  "language_info": {
   "codemirror_mode": {
    "name": "ipython",
    "version": 3
   },
   "file_extension": ".py",
   "mimetype": "text/x-python",
   "name": "python",
   "nbconvert_exporter": "python",
   "pygments_lexer": "ipython3",
   "version": "3.9.6"
  }
 },
 "nbformat": 4,
 "nbformat_minor": 5
}
