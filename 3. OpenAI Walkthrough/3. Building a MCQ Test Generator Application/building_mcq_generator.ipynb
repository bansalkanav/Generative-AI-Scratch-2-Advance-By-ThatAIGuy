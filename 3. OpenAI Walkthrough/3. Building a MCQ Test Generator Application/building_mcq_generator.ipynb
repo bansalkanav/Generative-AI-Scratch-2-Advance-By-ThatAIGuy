{
 "cells": [
  {
   "cell_type": "code",
   "execution_count": 2,
   "id": "ecf1daee-0257-40ac-b7af-fdce522887a0",
   "metadata": {},
   "outputs": [],
   "source": [
    "from openai import OpenAI\n",
    "\n",
    "f = open('keys/.openai_api_key.txt')\n",
    "OPENAI_API_KEY = f.read()\n",
    "\n",
    "client = OpenAI(api_key=OPENAI_API_KEY)"
   ]
  },
  {
   "cell_type": "code",
   "execution_count": 3,
   "id": "a9fa7d21-a392-483e-a4a3-34f278e110f4",
   "metadata": {},
   "outputs": [],
   "source": [
    "def mcq_creator(prompt):\n",
    "    response = client.chat.completions.create(\n",
    "          model=\"gpt-3.5-turbo\",\n",
    "          messages=[\n",
    "            {\"role\": \"system\", \"content\": \"\"\"You are a helpful AI Assistant. \n",
    "                                            \n",
    "                                           Given a Data Science topic you always generate 3 MCQ questions and answers for the test.\"\"\"},\n",
    "            {\"role\": \"user\", \"content\": prompt}\n",
    "          ]\n",
    "    )\n",
    "\n",
    "    return response.choices[0].message.content"
   ]
  },
  {
   "cell_type": "code",
   "execution_count": 4,
   "id": "921c4323-0748-43fb-8395-94973536fc60",
   "metadata": {},
   "outputs": [
    {
     "name": "stdin",
     "output_type": "stream",
     "text": [
      "Enter a Data Science Topic: linear regression\n"
     ]
    },
    {
     "name": "stdout",
     "output_type": "stream",
     "text": [
      "1. What is the primary goal of linear regression?\n",
      "a) To predict categorical outcomes\n",
      "b) To classify data points into different classes\n",
      "c) To model the relationship between a dependent variable and one or more independent variables\n",
      "d) To analyze the variance of data points\n",
      "\n",
      "Answer: c) To model the relationship between a dependent variable and one or more independent variables\n",
      "\n",
      "2. Which of the following methods is commonly used to evaluate the performance of a linear regression model?\n",
      "a) F1 score\n",
      "b) Confusion matrix\n",
      "c) Mean squared error\n",
      "d) Receiver Operating Characteristic (ROC) curve\n",
      "\n",
      "Answer: c) Mean squared error\n",
      "\n",
      "3. In a simple linear regression model, if the coefficient of determination (R-squared) is 0.75, what does this indicate?\n",
      "a) 75% of the data points are outliers\n",
      "b) 75% of the variance in the dependent variable can be explained by the independent variable\n",
      "c) The model is overfitting the data\n",
      "d) The model is underfitting the data\n",
      "\n",
      "Answer: b) 75% of the variance in the dependent variable can be explained by the independent variable\n"
     ]
    }
   ],
   "source": [
    "prompt = input(\"Enter a Data Science Topic:\")\n",
    "\n",
    "print(mcq_creator(prompt))"
   ]
  }
 ],
 "metadata": {
  "kernelspec": {
   "display_name": "Python 3 (ipykernel)",
   "language": "python",
   "name": "python3"
  },
  "language_info": {
   "codemirror_mode": {
    "name": "ipython",
    "version": 3
   },
   "file_extension": ".py",
   "mimetype": "text/x-python",
   "name": "python",
   "nbconvert_exporter": "python",
   "pygments_lexer": "ipython3",
   "version": "3.9.13"
  }
 },
 "nbformat": 4,
 "nbformat_minor": 5
}
