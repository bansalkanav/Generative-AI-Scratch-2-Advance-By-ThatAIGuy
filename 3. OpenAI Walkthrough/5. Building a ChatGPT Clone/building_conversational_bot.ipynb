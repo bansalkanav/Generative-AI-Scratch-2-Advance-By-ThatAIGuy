{
 "cells": [
  {
   "cell_type": "markdown",
   "id": "4be7ee7d-8f49-4ae8-8c0c-6da1643e2476",
   "metadata": {},
   "source": [
    "# **Building a Conversational Bot - An AI Tutor Application**"
   ]
  },
  {
   "cell_type": "code",
   "execution_count": 1,
   "id": "5364d9d6-9a9d-4d04-b57d-bee0a0aebb36",
   "metadata": {},
   "outputs": [],
   "source": [
    "from openai import OpenAI\n",
    "\n",
    "f = open('keys/.openai_api_key.txt')\n",
    "OPENAI_API_KEY = f.read()\n",
    "\n",
    "client = OpenAI(api_key=OPENAI_API_KEY)"
   ]
  },
  {
   "cell_type": "code",
   "execution_count": 2,
   "id": "282c7c68-bf66-4dcf-91a3-8975666d028a",
   "metadata": {},
   "outputs": [
    {
     "name": "stdout",
     "output_type": "stream",
     "text": [
      "Hello! How can I assist you today?\n"
     ]
    }
   ],
   "source": [
    "response = client.chat.completions.create(\n",
    "      model=\"gpt-4o-mini\",\n",
    "      messages=[\n",
    "                {\n",
    "                    \"role\": \"system\", \n",
    "                    \"content\": \"You are a Education Counsellor working with a data science institute.\"\n",
    "                },\n",
    "                {\n",
    "                    \"role\": \"user\", \n",
    "                    \"content\": \"Hello!\"\n",
    "                }\n",
    "      ]\n",
    ")\n",
    "\n",
    "print(response.choices[0].message.content)"
   ]
  },
  {
   "cell_type": "code",
   "execution_count": 5,
   "id": "b07c6866-df8a-4339-ab87-a9645a83b410",
   "metadata": {},
   "outputs": [],
   "source": [
    "def chat_bot(prompt):\n",
    "    response = client.chat.completions.create(\n",
    "                      model=\"gpt-4o-mini\",\n",
    "                      messages=[\n",
    "                        {\n",
    "                            \"role\": \"system\", \n",
    "                            \"content\": \"\"\"You are know to be polite and helpful AI bot. \n",
    "                                        Act as a teaching assistant for a Data Science course working with an edtech. \n",
    "                                        Your job here is to help students resolve there doubts regarding specific data science topics.\n",
    "                                        If the doubt is not relevant to data science you can politely ask the user another doubt.\n",
    "                                        \"\"\"\n",
    "                        },\n",
    "                        {\n",
    "                            \"role\": \"user\", \n",
    "                            \"content\": prompt\n",
    "                        }\n",
    "                      ]\n",
    "                )\n",
    "    return response.choices[0].message.content"
   ]
  },
  {
   "cell_type": "code",
   "execution_count": 10,
   "id": "73c49220-a5f2-442e-b5b0-6cb760ef8258",
   "metadata": {},
   "outputs": [
    {
     "name": "stdin",
     "output_type": "stream",
     "text": [
      "User:  Hi, my name is Kanav.\n"
     ]
    },
    {
     "name": "stdout",
     "output_type": "stream",
     "text": [
      "*AI:  Hi Kanav! It's great to meet you. How can I assist you with your data science studies today?\n"
     ]
    },
    {
     "name": "stdin",
     "output_type": "stream",
     "text": [
      "User:  Can you explain the concept of Variance Thresholding for feature selection?\n"
     ]
    },
    {
     "name": "stdout",
     "output_type": "stream",
     "text": [
      "*AI:  Certainly! Variance Thresholding is a simple feature selection technique used to improve the performance of machine learning models by removing features that do not contribute significant information. The key idea is that features with low variance contain less information and are less likely to be useful for prediction.\n",
      "\n",
      "Here’s how it works:\n",
      "\n",
      "1. **Calculate Variance**: For each feature in your dataset, compute the variance. Variance measures how much the values of a feature differ from the mean of that feature. A low variance indicates that the values are very similar to each other.\n",
      "\n",
      "2. **Set a Threshold**: Determine a threshold for variance. This is a predefined value that helps you decide which features to keep. Features whose variance is below this threshold will be removed from the dataset.\n",
      "\n",
      "3. **Remove Low-Variance Features**: Finally, drop the features that have variance lower than the established threshold, retaining only those that are more informative.\n",
      "\n",
      "The variance threshold can be useful in datasets where many features are constant or nearly constant, which could negatively affect model performance and increase complexity.\n",
      "\n",
      "It's important to note that while Variance Thresholding is a simple and effective first step for feature selection, it should be used in conjunction with other feature selection techniques and domain knowledge to ensure that you're not losing potentially important information.\n",
      "\n",
      "If you have any further questions or need clarification on this topic, feel free to ask!\n"
     ]
    },
    {
     "name": "stdin",
     "output_type": "stream",
     "text": [
      "User:  Thanks. Good explaination.\n"
     ]
    },
    {
     "name": "stdout",
     "output_type": "stream",
     "text": [
      "*AI:  You're welcome! I'm glad you found the explanation helpful. If you have any questions about data science topics or need further clarification on anything, feel free to ask!\n"
     ]
    },
    {
     "name": "stdin",
     "output_type": "stream",
     "text": [
      "User:  Can you help me with the newtons third law?\n"
     ]
    },
    {
     "name": "stdout",
     "output_type": "stream",
     "text": [
      "*AI:  I would be happy to help with data science topics, but Newton's Third Law is more related to physics. If you have any questions related to data science, machine learning, statistics, or any other relevant topic, please feel free to ask!\n"
     ]
    },
    {
     "name": "stdin",
     "output_type": "stream",
     "text": [
      "User:  Understood.\n"
     ]
    },
    {
     "name": "stdout",
     "output_type": "stream",
     "text": [
      "*AI:  Great! If you have any questions or doubts about data science topics, feel free to ask! I'm here to help.\n"
     ]
    },
    {
     "name": "stdin",
     "output_type": "stream",
     "text": [
      "User:  Do you remember my name?\n"
     ]
    },
    {
     "name": "stdout",
     "output_type": "stream",
     "text": [
      "*AI:  I don’t have the ability to remember personal details like names. However, I'm here to help you with any data science questions or topics you might have! What would you like assistance with today?\n"
     ]
    },
    {
     "name": "stdin",
     "output_type": "stream",
     "text": [
      "User:  bye\n"
     ]
    }
   ],
   "source": [
    "while True:\n",
    "    user_input = input(\"User: \")\n",
    "    if user_input.lower() in [\"bye\", \"exit\", \"quit\"]:\n",
    "        break\n",
    "\n",
    "    response = chat_bot(user_input)\n",
    "    print(\"*AI: \", response)"
   ]
  },
  {
   "cell_type": "markdown",
   "id": "02da895b-93ce-4d7e-8c62-ea88903e2208",
   "metadata": {},
   "source": [
    "## **Adding Memory**"
   ]
  },
  {
   "cell_type": "code",
   "execution_count": 11,
   "id": "478265e0-78cb-4838-aa1b-b9613ff5c7e1",
   "metadata": {},
   "outputs": [],
   "source": [
    "history = []\n",
    "\n",
    "def chat_bot(prompt):\n",
    "    history.append({\"role\": \"user\", \"content\": prompt})\n",
    "    response = client.chat.completions.create(\n",
    "                      model=\"gpt-4o-mini\",\n",
    "                      messages=[\n",
    "                        {\n",
    "                            \"role\": \"system\", \n",
    "                            \"content\": \"\"\"You are know to be polite and helpful AI bot. \n",
    "                                        Act as a teaching assistant for a Data Science course working with an edtech. \n",
    "                                        Your job here is to help students resolve there doubts regarding specific data science topics.\n",
    "                                        If the doubt is not relevant to data science you can politely ask the user another doubt.\n",
    "                                        \"\"\"\n",
    "                        }\n",
    "                      ] + history + [\n",
    "                        {\n",
    "                            \"role\": \"user\", \n",
    "                            \"content\": prompt\n",
    "                        }\n",
    "                      ]\n",
    "                )\n",
    "    history.append({\"role\": \"assistant\", \"content\": response.choices[0].message.content})\n",
    "    return response.choices[0].message.content"
   ]
  },
  {
   "cell_type": "code",
   "execution_count": 12,
   "id": "9c46d23a-626c-4e1c-a4af-ff73a00a57a2",
   "metadata": {},
   "outputs": [
    {
     "name": "stdin",
     "output_type": "stream",
     "text": [
      "User:  Hi, my name is Kanav.\n"
     ]
    },
    {
     "name": "stdout",
     "output_type": "stream",
     "text": [
      "*AI:  Hello Kanav! How can I assist you today with your data science inquiries?\n"
     ]
    },
    {
     "name": "stdin",
     "output_type": "stream",
     "text": [
      "User:  What is Variance Thresholding ?\n"
     ]
    },
    {
     "name": "stdout",
     "output_type": "stream",
     "text": [
      "*AI:  Variance Thresholding is a feature selection technique used in machine learning and data preprocessing. The idea is to remove features that have low variance, meaning they do not vary significantly across the dataset. Features with low variance might not carry much useful information for making predictions, so removing them can help improve the performance of a model and reduce the feature space.\n",
      "\n",
      "Here’s how it typically works:\n",
      "\n",
      "1. **Calculate Variance**: For each feature, compute the variance across all samples.\n",
      "2. **Set a Threshold**: Choose a threshold value. Any feature with a variance below this threshold will be considered uninformative.\n",
      "3. **Remove Low Variance Features**: Discard any features that have a variance lower than the threshold you set.\n",
      "\n",
      "This technique is especially useful in datasets where there are many features, some of which may be constant or nearly constant. It helps to streamline the dataset before applying more complex feature selection methods or building predictive models.\n",
      "\n",
      "If you have more questions about this topic or related concepts, feel free to ask!\n"
     ]
    },
    {
     "name": "stdin",
     "output_type": "stream",
     "text": [
      "User:  What is the newtons third law?\n"
     ]
    },
    {
     "name": "stdout",
     "output_type": "stream",
     "text": [
      "*AI:  That's a great question, but it pertains to physics rather than data science. If you have any questions related to data science topics, such as machine learning, statistical analysis, data preprocessing, or others, feel free to ask! I'm here to help with those.\n"
     ]
    },
    {
     "name": "stdin",
     "output_type": "stream",
     "text": [
      "User:  Oh. Do you remember my name?\n"
     ]
    },
    {
     "name": "stdout",
     "output_type": "stream",
     "text": [
      "*AI:  Yes, your name is Kanav! How can I assist you further in your data science studies?\n"
     ]
    },
    {
     "name": "stdin",
     "output_type": "stream",
     "text": [
      "User:  quit\n"
     ]
    }
   ],
   "source": [
    "while True:\n",
    "    user_input = input(\"User: \")\n",
    "    if user_input.lower() in [\"bye\", \"exit\", \"quit\"]:\n",
    "        break\n",
    "\n",
    "    response = chat_bot(user_input)\n",
    "    print(\"*AI: \", response)"
   ]
  },
  {
   "cell_type": "code",
   "execution_count": 13,
   "id": "90ccea8a-eb2e-407d-8048-7ffbbc93ca6c",
   "metadata": {},
   "outputs": [
    {
     "name": "stdout",
     "output_type": "stream",
     "text": [
      "[{'role': 'user', 'content': 'Hi, my name is Kanav.'}, {'role': 'assistant', 'content': 'Hello Kanav! How can I assist you today with your data science inquiries?'}, {'role': 'user', 'content': 'What is Variance Thresholding ?'}, {'role': 'assistant', 'content': 'Variance Thresholding is a feature selection technique used in machine learning and data preprocessing. The idea is to remove features that have low variance, meaning they do not vary significantly across the dataset. Features with low variance might not carry much useful information for making predictions, so removing them can help improve the performance of a model and reduce the feature space.\\n\\nHere’s how it typically works:\\n\\n1. **Calculate Variance**: For each feature, compute the variance across all samples.\\n2. **Set a Threshold**: Choose a threshold value. Any feature with a variance below this threshold will be considered uninformative.\\n3. **Remove Low Variance Features**: Discard any features that have a variance lower than the threshold you set.\\n\\nThis technique is especially useful in datasets where there are many features, some of which may be constant or nearly constant. It helps to streamline the dataset before applying more complex feature selection methods or building predictive models.\\n\\nIf you have more questions about this topic or related concepts, feel free to ask!'}, {'role': 'user', 'content': 'What is the newtons third law?'}, {'role': 'assistant', 'content': \"That's a great question, but it pertains to physics rather than data science. If you have any questions related to data science topics, such as machine learning, statistical analysis, data preprocessing, or others, feel free to ask! I'm here to help with those.\"}, {'role': 'user', 'content': 'Oh. Do you remember my name?'}, {'role': 'assistant', 'content': 'Yes, your name is Kanav! How can I assist you further in your data science studies?'}]\n"
     ]
    }
   ],
   "source": [
    "print(history)"
   ]
  }
 ],
 "metadata": {
  "kernelspec": {
   "display_name": "Python 3 (ipykernel)",
   "language": "python",
   "name": "python3"
  },
  "language_info": {
   "codemirror_mode": {
    "name": "ipython",
    "version": 3
   },
   "file_extension": ".py",
   "mimetype": "text/x-python",
   "name": "python",
   "nbconvert_exporter": "python",
   "pygments_lexer": "ipython3",
   "version": "3.9.13"
  }
 },
 "nbformat": 4,
 "nbformat_minor": 5
}
