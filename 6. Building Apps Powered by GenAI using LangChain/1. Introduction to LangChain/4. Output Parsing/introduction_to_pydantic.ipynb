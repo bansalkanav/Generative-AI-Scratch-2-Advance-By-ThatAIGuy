{
 "cells": [
  {
   "cell_type": "markdown",
   "id": "9a3e7ba5-7cb4-451c-99ac-6186bd2bb63f",
   "metadata": {},
   "source": [
    "# **What is Pydantic?**\n",
    "Pydantic is a **data validation and parsing library** for Python, primarily used with FastAPI, but also great for any application that requires structured data handling.\n",
    "\n",
    "# **Key Features of Pydantic**\n",
    "1. Automatic data validation\n",
    "2. Type enforcement (ensures correct data types)\n",
    "3. Converts data automatically (e.g., string \"123\" → integer 123)\n",
    "4. Provides meaningful error messages\n",
    "5. Works well with FastAPI, SQLAlchemy, and ORMs\n",
    "\n",
    "# **Why is Pydantic Useful?**\n",
    "Let’s say you are building an API where users send data in JSON format. Normally, you would have to manually check if the data is correct. Pydantic does this for you!\n",
    "\n",
    "# **When Should You Use Pydantic?**\n",
    "1. Building **APIs** with FastAPI\n",
    "2. Defining **structured data models**\n",
    "3. Working with **config files and JSON data**\n",
    "4. Creating **schemas for database models**\n",
    "\n"
   ]
  },
  {
   "cell_type": "markdown",
   "id": "8810619f-eb34-4d18-a080-35ae37c10614",
   "metadata": {},
   "source": [
    "# **Example without Pydantic**\n",
    "\n",
    "Assume that you have an application which accepts **user name** and **age** for signing up. After user fills the form and hit submit, this information must be stored in the database and a new user will be created."
   ]
  },
  {
   "cell_type": "code",
   "execution_count": 1,
   "id": "a9dcfa44-8e69-405c-958c-597edcbdf7bf",
   "metadata": {},
   "outputs": [
    {
     "ename": "ValueError",
     "evalue": "Invalid age",
     "output_type": "error",
     "traceback": [
      "\u001b[0;31m---------------------------------------------------------------------------\u001b[0m",
      "\u001b[0;31mValueError\u001b[0m                                Traceback (most recent call last)",
      "Cell \u001b[0;32mIn[1], line 8\u001b[0m\n\u001b[1;32m      5\u001b[0m         \u001b[38;5;28;01mraise\u001b[39;00m \u001b[38;5;167;01mValueError\u001b[39;00m(\u001b[38;5;124m\"\u001b[39m\u001b[38;5;124mInvalid age\u001b[39m\u001b[38;5;124m\"\u001b[39m)\n\u001b[1;32m      6\u001b[0m     \u001b[38;5;28;01mreturn\u001b[39;00m data\n\u001b[0;32m----> 8\u001b[0m \u001b[38;5;28mprint\u001b[39m(\u001b[43mcreate_user\u001b[49m\u001b[43m(\u001b[49m\u001b[43m{\u001b[49m\u001b[38;5;124;43m\"\u001b[39;49m\u001b[38;5;124;43mname\u001b[39;49m\u001b[38;5;124;43m\"\u001b[39;49m\u001b[43m:\u001b[49m\u001b[43m \u001b[49m\u001b[38;5;124;43m\"\u001b[39;49m\u001b[38;5;124;43mAlice\u001b[39;49m\u001b[38;5;124;43m\"\u001b[39;49m\u001b[43m,\u001b[49m\u001b[43m \u001b[49m\u001b[38;5;124;43m\"\u001b[39;49m\u001b[38;5;124;43mage\u001b[39;49m\u001b[38;5;124;43m\"\u001b[39;49m\u001b[43m:\u001b[49m\u001b[43m \u001b[49m\u001b[38;5;124;43m\"\u001b[39;49m\u001b[38;5;124;43m25\u001b[39;49m\u001b[38;5;124;43m\"\u001b[39;49m\u001b[43m}\u001b[49m\u001b[43m)\u001b[49m)  \n\u001b[1;32m      9\u001b[0m \u001b[38;5;66;03m# ERROR! Age should be an integer.\u001b[39;00m\n",
      "Cell \u001b[0;32mIn[1], line 5\u001b[0m, in \u001b[0;36mcreate_user\u001b[0;34m(data)\u001b[0m\n\u001b[1;32m      3\u001b[0m     \u001b[38;5;28;01mraise\u001b[39;00m \u001b[38;5;167;01mValueError\u001b[39;00m(\u001b[38;5;124m\"\u001b[39m\u001b[38;5;124mInvalid name\u001b[39m\u001b[38;5;124m\"\u001b[39m)\n\u001b[1;32m      4\u001b[0m \u001b[38;5;28;01mif\u001b[39;00m \u001b[38;5;124m\"\u001b[39m\u001b[38;5;124mage\u001b[39m\u001b[38;5;124m\"\u001b[39m \u001b[38;5;129;01mnot\u001b[39;00m \u001b[38;5;129;01min\u001b[39;00m data \u001b[38;5;129;01mor\u001b[39;00m \u001b[38;5;129;01mnot\u001b[39;00m \u001b[38;5;28misinstance\u001b[39m(data[\u001b[38;5;124m\"\u001b[39m\u001b[38;5;124mage\u001b[39m\u001b[38;5;124m\"\u001b[39m], \u001b[38;5;28mint\u001b[39m):\n\u001b[0;32m----> 5\u001b[0m     \u001b[38;5;28;01mraise\u001b[39;00m \u001b[38;5;167;01mValueError\u001b[39;00m(\u001b[38;5;124m\"\u001b[39m\u001b[38;5;124mInvalid age\u001b[39m\u001b[38;5;124m\"\u001b[39m)\n\u001b[1;32m      6\u001b[0m \u001b[38;5;28;01mreturn\u001b[39;00m data\n",
      "\u001b[0;31mValueError\u001b[0m: Invalid age"
     ]
    }
   ],
   "source": [
    "def create_user(data: dict):\n",
    "    if \"name\" not in data or not isinstance(data[\"name\"], str):\n",
    "        raise ValueError(\"Invalid name\")\n",
    "    if \"age\" not in data or not isinstance(data[\"age\"], int):\n",
    "        raise ValueError(\"Invalid age\")\n",
    "    return data\n",
    "\n",
    "print(create_user({\"name\": \"Alice\", \"age\": \"25\"}))  \n",
    "# ERROR! Age should be an integer."
   ]
  },
  {
   "cell_type": "markdown",
   "id": "ca39260b-b798-49f3-b46a-3f9480a220bf",
   "metadata": {},
   "source": [
    "**Note:** The above example requires manual validation, which is tedious and error-prone."
   ]
  },
  {
   "cell_type": "markdown",
   "id": "8d68af18-a8a7-44c6-b67d-f8a55fb0c5e2",
   "metadata": {},
   "source": [
    "# **Solving the above problem with Pydantic**"
   ]
  },
  {
   "cell_type": "code",
   "execution_count": 2,
   "id": "096885a6-938c-419d-93fe-8a745e1bd23f",
   "metadata": {},
   "outputs": [],
   "source": [
    "# Create a Pydantic Model\n",
    "\n",
    "from pydantic import BaseModel\n",
    "\n",
    "class User(BaseModel):\n",
    "    name: str\n",
    "    age: int"
   ]
  },
  {
   "cell_type": "code",
   "execution_count": 3,
   "id": "9172fa3a-8f4e-4375-995f-753997ba6067",
   "metadata": {},
   "outputs": [
    {
     "name": "stdout",
     "output_type": "stream",
     "text": [
      "name='Alice' age=25\n"
     ]
    }
   ],
   "source": [
    "user = User(name=\"Alice\", age=25)\n",
    "\n",
    "print(user)"
   ]
  },
  {
   "cell_type": "code",
   "execution_count": 4,
   "id": "4aa8bdd1-a028-4c2b-bf13-377ad2f0989a",
   "metadata": {},
   "outputs": [
    {
     "name": "stdout",
     "output_type": "stream",
     "text": [
      "name='Alice' age=25\n"
     ]
    }
   ],
   "source": [
    "# Automatic Type Conversion\n",
    "\n",
    "user = User(name=\"Alice\", age=\"25\")\n",
    "\n",
    "print(user)"
   ]
  },
  {
   "cell_type": "markdown",
   "id": "1ce88696-ff9d-4c43-87ea-f4f5c5a3ccb1",
   "metadata": {},
   "source": [
    "# **Handling Default Values & Optional Fields**\n",
    "\n",
    "Pydantic allows default values and optional fields."
   ]
  },
  {
   "cell_type": "code",
   "execution_count": 5,
   "id": "406cdce2-b414-48f7-9ecf-abeb7e01101d",
   "metadata": {},
   "outputs": [
    {
     "name": "stdout",
     "output_type": "stream",
     "text": [
      "name='Charlie' age=18 email=None\n"
     ]
    }
   ],
   "source": [
    "from typing import Optional\n",
    "\n",
    "class User(BaseModel):\n",
    "    name: str\n",
    "    age: int = 18  # Default age\n",
    "    email: Optional[str] = None  # Optional field\n",
    "\n",
    "user = User(name=\"Charlie\")\n",
    "\n",
    "print(user)"
   ]
  },
  {
   "cell_type": "markdown",
   "id": "dd2d5bd0-1ea6-4f0c-9b46-a150f2a39210",
   "metadata": {},
   "source": [
    "# **Data Validation with Custom Constraints**\n",
    "\n",
    "Pydantic allows **strict validation** rules like min/max length, regex patterns, and value ranges.\n",
    "\n",
    "In Pydantic, `Field(...)` is used to **add extra rules (constraints)** to a field inside a `BaseModel`.\n",
    "\n",
    "The `...` inside `Field(...)` **means the field is required and cannot be missing**. If you remove `...`, the field **becomes optional**."
   ]
  },
  {
   "cell_type": "code",
   "execution_count": 6,
   "id": "7a20f8fe-e33a-4d75-9332-8f26f915ec3a",
   "metadata": {},
   "outputs": [],
   "source": [
    "from pydantic import BaseModel, Field\n",
    "\n",
    "class User(BaseModel):\n",
    "    name: str = Field(..., min_length=3, max_length=50)\n",
    "    age: int = Field(..., gt=0, lt=100)  # Age must be between 1 and 99"
   ]
  },
  {
   "cell_type": "code",
   "execution_count": 7,
   "id": "7101b011-3a2c-4b72-9dab-76678e5379a0",
   "metadata": {},
   "outputs": [
    {
     "name": "stdout",
     "output_type": "stream",
     "text": [
      "name='Dave' age=25\n"
     ]
    }
   ],
   "source": [
    "user = User(name=\"Dave\", age=25)\n",
    "\n",
    "print(user)"
   ]
  },
  {
   "cell_type": "code",
   "execution_count": 8,
   "id": "d299da2c-e9bf-437c-bd95-e1644575b0b5",
   "metadata": {},
   "outputs": [
    {
     "ename": "ValidationError",
     "evalue": "1 validation error for User\nname\n  String should have at least 3 characters [type=string_too_short, input_value='A', input_type=str]\n    For further information visit https://errors.pydantic.dev/2.8/v/string_too_short",
     "output_type": "error",
     "traceback": [
      "\u001b[0;31m---------------------------------------------------------------------------\u001b[0m",
      "\u001b[0;31mValidationError\u001b[0m                           Traceback (most recent call last)",
      "Cell \u001b[0;32mIn[8], line 1\u001b[0m\n\u001b[0;32m----> 1\u001b[0m invalid_user \u001b[38;5;241m=\u001b[39m \u001b[43mUser\u001b[49m\u001b[43m(\u001b[49m\u001b[43mname\u001b[49m\u001b[38;5;241;43m=\u001b[39;49m\u001b[38;5;124;43m\"\u001b[39;49m\u001b[38;5;124;43mA\u001b[39;49m\u001b[38;5;124;43m\"\u001b[39;49m\u001b[43m,\u001b[49m\u001b[43m \u001b[49m\u001b[43mage\u001b[49m\u001b[38;5;241;43m=\u001b[39;49m\u001b[38;5;241;43m20\u001b[39;49m\u001b[43m)\u001b[49m\n\u001b[1;32m      3\u001b[0m \u001b[38;5;28mprint\u001b[39m(invalid_user)\n",
      "File \u001b[0;32m~/Developer/.env_jupyter/lib/python3.9/site-packages/pydantic/main.py:193\u001b[0m, in \u001b[0;36mBaseModel.__init__\u001b[0;34m(self, **data)\u001b[0m\n\u001b[1;32m    191\u001b[0m \u001b[38;5;66;03m# `__tracebackhide__` tells pytest and some other tools to omit this function from tracebacks\u001b[39;00m\n\u001b[1;32m    192\u001b[0m __tracebackhide__ \u001b[38;5;241m=\u001b[39m \u001b[38;5;28;01mTrue\u001b[39;00m\n\u001b[0;32m--> 193\u001b[0m \u001b[38;5;28;43mself\u001b[39;49m\u001b[38;5;241;43m.\u001b[39;49m\u001b[43m__pydantic_validator__\u001b[49m\u001b[38;5;241;43m.\u001b[39;49m\u001b[43mvalidate_python\u001b[49m\u001b[43m(\u001b[49m\u001b[43mdata\u001b[49m\u001b[43m,\u001b[49m\u001b[43m \u001b[49m\u001b[43mself_instance\u001b[49m\u001b[38;5;241;43m=\u001b[39;49m\u001b[38;5;28;43mself\u001b[39;49m\u001b[43m)\u001b[49m\n",
      "\u001b[0;31mValidationError\u001b[0m: 1 validation error for User\nname\n  String should have at least 3 characters [type=string_too_short, input_value='A', input_type=str]\n    For further information visit https://errors.pydantic.dev/2.8/v/string_too_short"
     ]
    }
   ],
   "source": [
    "invalid_user = User(name=\"A\", age=20)\n",
    "\n",
    "print(invalid_user)"
   ]
  },
  {
   "cell_type": "code",
   "execution_count": 9,
   "id": "80c99aab-4d7a-465b-9864-ca23787d0761",
   "metadata": {},
   "outputs": [
    {
     "ename": "ValidationError",
     "evalue": "1 validation error for User\nage\n  Input should be less than 100 [type=less_than, input_value=200, input_type=int]\n    For further information visit https://errors.pydantic.dev/2.8/v/less_than",
     "output_type": "error",
     "traceback": [
      "\u001b[0;31m---------------------------------------------------------------------------\u001b[0m",
      "\u001b[0;31mValidationError\u001b[0m                           Traceback (most recent call last)",
      "Cell \u001b[0;32mIn[9], line 1\u001b[0m\n\u001b[0;32m----> 1\u001b[0m invalid_user \u001b[38;5;241m=\u001b[39m \u001b[43mUser\u001b[49m\u001b[43m(\u001b[49m\u001b[43mname\u001b[49m\u001b[38;5;241;43m=\u001b[39;49m\u001b[38;5;124;43m\"\u001b[39;49m\u001b[38;5;124;43mABC\u001b[39;49m\u001b[38;5;124;43m\"\u001b[39;49m\u001b[43m,\u001b[49m\u001b[43m \u001b[49m\u001b[43mage\u001b[49m\u001b[38;5;241;43m=\u001b[39;49m\u001b[38;5;241;43m200\u001b[39;49m\u001b[43m)\u001b[49m\n\u001b[1;32m      3\u001b[0m \u001b[38;5;28mprint\u001b[39m(invalid_user)\n",
      "File \u001b[0;32m~/Developer/.env_jupyter/lib/python3.9/site-packages/pydantic/main.py:193\u001b[0m, in \u001b[0;36mBaseModel.__init__\u001b[0;34m(self, **data)\u001b[0m\n\u001b[1;32m    191\u001b[0m \u001b[38;5;66;03m# `__tracebackhide__` tells pytest and some other tools to omit this function from tracebacks\u001b[39;00m\n\u001b[1;32m    192\u001b[0m __tracebackhide__ \u001b[38;5;241m=\u001b[39m \u001b[38;5;28;01mTrue\u001b[39;00m\n\u001b[0;32m--> 193\u001b[0m \u001b[38;5;28;43mself\u001b[39;49m\u001b[38;5;241;43m.\u001b[39;49m\u001b[43m__pydantic_validator__\u001b[49m\u001b[38;5;241;43m.\u001b[39;49m\u001b[43mvalidate_python\u001b[49m\u001b[43m(\u001b[49m\u001b[43mdata\u001b[49m\u001b[43m,\u001b[49m\u001b[43m \u001b[49m\u001b[43mself_instance\u001b[49m\u001b[38;5;241;43m=\u001b[39;49m\u001b[38;5;28;43mself\u001b[39;49m\u001b[43m)\u001b[49m\n",
      "\u001b[0;31mValidationError\u001b[0m: 1 validation error for User\nage\n  Input should be less than 100 [type=less_than, input_value=200, input_type=int]\n    For further information visit https://errors.pydantic.dev/2.8/v/less_than"
     ]
    }
   ],
   "source": [
    "invalid_user = User(name=\"ABC\", age=200)\n",
    "\n",
    "print(invalid_user)"
   ]
  }
 ],
 "metadata": {
  "kernelspec": {
   "display_name": "Python 3 (ipykernel)",
   "language": "python",
   "name": "python3"
  },
  "language_info": {
   "codemirror_mode": {
    "name": "ipython",
    "version": 3
   },
   "file_extension": ".py",
   "mimetype": "text/x-python",
   "name": "python",
   "nbconvert_exporter": "python",
   "pygments_lexer": "ipython3",
   "version": "3.9.6"
  }
 },
 "nbformat": 4,
 "nbformat_minor": 5
}
