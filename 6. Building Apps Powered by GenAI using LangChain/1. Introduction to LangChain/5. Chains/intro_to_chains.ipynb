{
 "cells": [
  {
   "cell_type": "markdown",
   "id": "6184a554-1851-4a31-abf1-87c2561f29be",
   "metadata": {},
   "source": [
    "# **Chains**\n",
    "\n",
    "Chains allows us to link the output of one LLM call as the input of another call.\n",
    "\n",
    "Chains refer to sequences of calls - whether to an LLM, a tool, or a data preprocessing step. The primary supported way to do this is with LCEL."
   ]
  },
  {
   "cell_type": "code",
   "execution_count": 1,
   "id": "aa15d575-4524-41b8-a4a1-f3da57950631",
   "metadata": {},
   "outputs": [],
   "source": [
    "# Setup API Key\n",
    "\n",
    "f = open('keys/.openai_api_key.txt')\n",
    "\n",
    "OPENAI_API_KEY = f.read()"
   ]
  },
  {
   "cell_type": "code",
   "execution_count": 2,
   "id": "3c3e157e-dd82-4541-925e-70a640a3723c",
   "metadata": {},
   "outputs": [
    {
     "name": "stderr",
     "output_type": "stream",
     "text": [
      "/Users/kanavbansal/Developer/.env_jupyter/lib/python3.9/site-packages/urllib3/__init__.py:35: NotOpenSSLWarning: urllib3 v2 only supports OpenSSL 1.1.1+, currently the 'ssl' module is compiled with 'LibreSSL 2.8.3'. See: https://github.com/urllib3/urllib3/issues/3020\n",
      "  warnings.warn(\n"
     ]
    }
   ],
   "source": [
    "from langchain_openai import ChatOpenAI\n",
    "\n",
    "# Set the OpenAI Key and initialize a ChatModel\n",
    "chat_model = ChatOpenAI(openai_api_key=OPENAI_API_KEY)"
   ]
  },
  {
   "cell_type": "code",
   "execution_count": 3,
   "id": "069c2668-961a-43ba-a5ee-ff85b0297cae",
   "metadata": {},
   "outputs": [],
   "source": [
    "from langchain_core.prompts import ChatPromptTemplate\n",
    "\n",
    "chat_template = ChatPromptTemplate.from_messages(\n",
    "    [\n",
    "        (\"system\", \"\"\"You are a helpful AI bot who expertise in Data Science Tutor. \n",
    "                      You are known to make any complex topic simpler even for a beginner.\"\"\"),\n",
    "        (\"human\", \"What is {topic}?\")\n",
    "    ]\n",
    ")"
   ]
  },
  {
   "cell_type": "code",
   "execution_count": 4,
   "id": "afb84660-ae5b-485c-b2f7-b6dbd9788b9e",
   "metadata": {},
   "outputs": [],
   "source": [
    "from langchain_core.output_parsers import StrOutputParser\n",
    "\n",
    "output_parser = StrOutputParser()"
   ]
  },
  {
   "cell_type": "code",
   "execution_count": 5,
   "id": "af9b77b3-15b6-4969-81db-ca93e76d7476",
   "metadata": {},
   "outputs": [],
   "source": [
    "chain = chat_template | chat_model | output_parser"
   ]
  },
  {
   "cell_type": "markdown",
   "id": "0eb9fd74-86a7-4fce-82b8-fffca74189dc",
   "metadata": {},
   "source": [
    "### **chain.invoke()**"
   ]
  },
  {
   "cell_type": "code",
   "execution_count": 6,
   "id": "1211818b-5272-4c83-8545-27189b9ca614",
   "metadata": {},
   "outputs": [
    {
     "name": "stdout",
     "output_type": "stream",
     "text": [
      "Feature selection is the process of selecting a subset of relevant features or variables from a larger set of features in a dataset. The goal of feature selection is to improve the performance of machine learning models by reducing overfitting, increasing model interpretability, and reducing computational cost.\n",
      "\n",
      "Feature selection methods can be broadly categorized into three types:\n",
      "\n",
      "1. Filter methods: These methods select features based on statistical measures like correlation, chi-square, mutual information, etc., without involving the machine learning model.\n",
      "\n",
      "2. Wrapper methods: These methods evaluate different subsets of features using a specific machine learning algorithm and select the subset that gives the best performance.\n",
      "\n",
      "3. Embedded methods: These methods perform feature selection as part of the model training process, where the importance of features is determined during model training.\n",
      "\n",
      "By selecting the most relevant features, feature selection helps in improving the model's accuracy, reducing training time, and making the model more interpretable.\n"
     ]
    }
   ],
   "source": [
    "user_input = {\"topic\": \"Feature Selection\"}\n",
    "\n",
    "response = chain.invoke(user_input)\n",
    "\n",
    "print(response)"
   ]
  },
  {
   "cell_type": "markdown",
   "id": "3f928262-571d-44d2-8885-ba7d4baea364",
   "metadata": {},
   "source": [
    "### **chain.stream()**"
   ]
  },
  {
   "cell_type": "code",
   "execution_count": 7,
   "id": "c1aca568-22e8-47fa-9a13-ff9327eed232",
   "metadata": {},
   "outputs": [
    {
     "name": "stdout",
     "output_type": "stream",
     "text": [
      "Feature selection is the process of choosing a subset of relevant features (variables, predictors) from the original dataset to use in a machine learning model. The goal of feature selection is to improve the model's performance by reducing overfitting, increasing accuracy, and making the model more interpretable.\n",
      "\n",
      "There are several methods for feature selection, including filter methods, wrapper methods, and embedded methods. Filter methods rank features based on statistical measures like correlation or mutual information. Wrapper methods evaluate different combinations of features by training and testing the model with each subset. Embedded methods incorporate feature selection into the model training process itself, with algorithms like LASSO and decision trees.\n",
      "\n",
      "Overall, feature selection is an important step in the machine learning pipeline to optimize model performance and interpretability."
     ]
    }
   ],
   "source": [
    "for chunk in chain.stream(user_input):\n",
    "    print(chunk, end=\"\")"
   ]
  },
  {
   "cell_type": "markdown",
   "id": "5684de3e-ab75-4792-b353-c2fcd18bb890",
   "metadata": {},
   "source": [
    "### **Legacy Chains**\n",
    "\n",
    "- **LLMChain (Legacy)**\n",
    "- **SimpleSequentialChain (Legacy)**"
   ]
  },
  {
   "cell_type": "markdown",
   "id": "d58d3611-b2c1-4cef-8a32-9cc9fb6c08d7",
   "metadata": {},
   "source": [
    "## **TOPIC**"
   ]
  },
  {
   "cell_type": "code",
   "execution_count": 9,
   "id": "117dbb42-bab0-4347-abab-c22f280f7436",
   "metadata": {},
   "outputs": [],
   "source": [
    "from langchain_openai import ChatOpenAI\n",
    "from langchain_core.prompts import ChatPromptTemplate\n",
    "from langchain_core.output_parsers import StrOutputParser"
   ]
  },
  {
   "cell_type": "code",
   "execution_count": 13,
   "id": "279c1f99-9b85-4607-a71f-ce890c0b0630",
   "metadata": {},
   "outputs": [
    {
     "name": "stdout",
     "output_type": "stream",
     "text": [
      "# Research Report: How Transformers Work\n",
      "\n",
      "## Introduction\n",
      "Transformers are essential electrical devices used to transfer electrical energy between two or more circuits through electromagnetic induction. They play a crucial role in power distribution systems, allowing for the efficient transmission of electricity over long distances. This report explores the fundamental principles of transformers, their construction, operation, types, and applications.\n",
      "\n",
      "## Principles of Operation\n",
      "Transformers operate based on two key principles: electromagnetic induction and Faraday's law of induction.\n",
      "\n",
      "### Electromagnetic Induction\n",
      "Electromagnetic induction occurs when a changing magnetic field induces an electromotive force (EMF) in a conductor. In transformers, this principle is utilized to transfer energy from one coil to another without direct electrical connection.\n",
      "\n",
      "### Faraday's Law of Induction\n",
      "Faraday's law states that the induced EMF in a coil is proportional to the rate of change of magnetic flux through the coil. In transformers, when an alternating current (AC) flows through the primary coil, it creates a changing magnetic field that induces a voltage in the secondary coil.\n",
      "\n",
      "## Construction of Transformers\n",
      "Transformers consist of three main components:\n",
      "\n",
      "1. **Core**: The core is typically made of laminated silicon steel to minimize energy losses due to eddy currents. It provides a path for the magnetic flux and enhances the efficiency of the transformer.\n",
      "\n",
      "2. **Primary Coil**: The primary coil is the input winding connected to the power source. When AC flows through this coil, it generates a magnetic field.\n",
      "\n",
      "3. **Secondary Coil**: The secondary coil is the output winding where the induced voltage is taken. The number of turns in the secondary coil relative to the primary coil determines the voltage transformation ratio.\n",
      "\n",
      "### Turns Ratio\n",
      "The voltage transformation ratio of a transformer is determined by the turns ratio (N) of the primary (N1) and secondary (N2) coils:\n",
      "\\[\n",
      "\\frac{V_s}{V_p} = \\frac{N_s}{N_p}\n",
      "\\]\n",
      "Where:\n",
      "- \\(V_s\\) = Secondary voltage\n",
      "- \\(V_p\\) = Primary voltage\n",
      "- \\(N_s\\) = Number of turns in the secondary coil\n",
      "- \\(N_p\\) = Number of turns in the primary coil\n",
      "\n",
      "## Types of Transformers\n",
      "Transformers can be classified into several types based on their design and application:\n",
      "\n",
      "1. **Step-Up Transformer**: Increases voltage from primary to secondary (N2 > N1).\n",
      "2. **Step-Down Transformer**: Decreases voltage from primary to secondary (N2 < N1).\n",
      "3. **Isolation Transformer**: Provides electrical isolation between circuits while maintaining the same voltage level.\n",
      "4. **Auto Transformer**: Uses a single winding for both primary and secondary, allowing for variable voltage transformation.\n",
      "\n",
      "## Applications of Transformers\n",
      "Transformers are widely used in various applications, including:\n",
      "\n",
      "- **Power Distribution**: Step-up transformers increase voltage for long-distance transmission, while step-down transformers reduce voltage for safe distribution to homes and businesses.\n",
      "- **Electronics**: Transformers are used in power supplies to convert voltage levels for electronic devices.\n",
      "- **Audio Equipment**: Isolation transformers are used to prevent ground loops and improve sound quality in audio systems.\n",
      "\n",
      "## Conclusion\n",
      "Transformers are vital components in electrical engineering, enabling the efficient transmission and distribution of electrical energy. Their operation relies on the principles of electromagnetic induction and Faraday's law, with various designs tailored for specific applications. Understanding how transformers work is essential for advancements in power systems and electronic devices.\n",
      "\n",
      "## References\n",
      "1. Hughes, E. (2010). *Electrical and Electronic Technology*. Pearson Education.\n",
      "2. Say, M. G. (2000). *Alternating Current Machines*. New York: McGraw-Hill.\n",
      "3. C. L. Wadhwa, *Electrical Power Systems*, New Age International Publishers, 2010.\n",
      "4. B. R. Gupta, *Fundamentals of Electrical Engineering and Technology*, S. Chand Publishing, 2015.\n"
     ]
    }
   ],
   "source": [
    "WRITER_SYS_PROMPT = \"\"\"You are a research assistant and scientific writer.\n",
    "You take in requests about the topics and write organized research reports on those topics.\n",
    "Also you share the appropriate references at the end of report.\"\"\"\n",
    "\n",
    "HUMAN_PROMPT_1 = \"\"\"Write an organized research report about {topic}.\"\"\"\n",
    "\n",
    "writer_chat_template = ChatPromptTemplate.from_messages([\n",
    "    (\"system\", WRITER_SYS_PROMPT), \n",
    "    (\"human\", HUMAN_PROMPT_1)\n",
    "])\n",
    "\n",
    "\n",
    "writer_chat_model = ChatOpenAI(openai_api_key=OPENAI_API_KEY,\n",
    "                               model=\"gpt-4o-mini\",\n",
    "                               temperature=0.0)\n",
    "\n",
    "output_parser = StrOutputParser()\n",
    "\n",
    "writer_chain = writer_chat_template | writer_chat_model | output_parser\n",
    "\n",
    "research_report = writer_chain.invoke({\"topic\": \"how transformers work?\"})\n",
    "\n",
    "print(research_report)"
   ]
  },
  {
   "cell_type": "code",
   "execution_count": 15,
   "id": "9dba82f2-cbca-41a9-a356-824641669866",
   "metadata": {},
   "outputs": [
    {
     "name": "stdout",
     "output_type": "stream",
     "text": [
      "- **Clarity and Structure**: The report is well-structured, with clear headings and subheadings that guide the reader through the concepts of transformers. However, consider adding a brief overview or summary at the beginning to provide context for readers unfamiliar with the topic.\n",
      "\n",
      "- **Depth of Explanation**: While the fundamental principles and components of transformers are covered, the report could benefit from more detailed explanations or examples, particularly in the \"Types of Transformers\" section, to illustrate how each type functions in real-world applications.\n",
      "\n",
      "- **Mathematical Representation**: The inclusion of the turns ratio formula is a strong point, but it would enhance understanding if a practical example or numerical illustration of how to apply this formula was provided.\n",
      "\n",
      "- **Applications Section**: The applications of transformers are well identified, but expanding this section with specific case studies or examples of transformer use in modern technology (e.g., renewable energy systems) would enrich the report and demonstrate relevance.\n",
      "\n",
      "- **References and Citations**: The references are appropriate, but consider including more recent sources or articles to reflect the latest advancements in transformer technology and applications, as the current references are somewhat dated.\n"
     ]
    }
   ],
   "source": [
    "REVIEWER_SYS_PROMPT = \"\"\"You are a reviewer for research reports. \n",
    "You take in research reports and provide a feedback on them.\"\"\"\n",
    "\n",
    "HUMAN_PROMPT_2 = \"\"\"Provide feedback as 5 concise bullet points on this research report: \n",
    "\n",
    "{input}\"\"\"\n",
    "\n",
    "reviewer_chat_template = ChatPromptTemplate.from_messages([\n",
    "    (\"system\", REVIEWER_SYS_PROMPT), \n",
    "    (\"human\", HUMAN_PROMPT_2)\n",
    "])\n",
    "\n",
    "reviewer_chat_model = ChatOpenAI(openai_api_key=OPENAI_API_KEY, \n",
    "                                 model=\"gpt-4o-mini\", \n",
    "                                 temperature=0.2)\n",
    "\n",
    "reviewer_chain = reviewer_chat_template | reviewer_chat_model | output_parser\n",
    "\n",
    "report_feedback = reviewer_chain.invoke({\"input\": research_report})\n",
    "\n",
    "print(report_feedback)"
   ]
  }
 ],
 "metadata": {
  "kernelspec": {
   "display_name": "Python 3 (ipykernel)",
   "language": "python",
   "name": "python3"
  },
  "language_info": {
   "codemirror_mode": {
    "name": "ipython",
    "version": 3
   },
   "file_extension": ".py",
   "mimetype": "text/x-python",
   "name": "python",
   "nbconvert_exporter": "python",
   "pygments_lexer": "ipython3",
   "version": "3.9.6"
  }
 },
 "nbformat": 4,
 "nbformat_minor": 5
}
