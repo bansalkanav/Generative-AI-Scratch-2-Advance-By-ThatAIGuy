{
 "cells": [
  {
   "cell_type": "markdown",
   "id": "6184a554-1851-4a31-abf1-87c2561f29be",
   "metadata": {},
   "source": [
    "# **Chains**\n",
    "\n",
    "Chains allows us to link the output of one LLM call as the input of another call.\n",
    "\n",
    "Chains refer to sequences of calls - whether to an LLM, a tool, or a data preprocessing step. The primary supported way to do this is with LCEL."
   ]
  },
  {
   "cell_type": "code",
   "execution_count": 1,
   "id": "aa15d575-4524-41b8-a4a1-f3da57950631",
   "metadata": {},
   "outputs": [],
   "source": [
    "# Setup API Key\n",
    "\n",
    "f = open('keys/.openai_api_key.txt')\n",
    "\n",
    "OPENAI_API_KEY = f.read()"
   ]
  },
  {
   "cell_type": "code",
   "execution_count": 2,
   "id": "3c3e157e-dd82-4541-925e-70a640a3723c",
   "metadata": {},
   "outputs": [
    {
     "name": "stderr",
     "output_type": "stream",
     "text": [
      "/Users/kanavbansal/Developer/.env_jupyter/lib/python3.9/site-packages/urllib3/__init__.py:35: NotOpenSSLWarning: urllib3 v2 only supports OpenSSL 1.1.1+, currently the 'ssl' module is compiled with 'LibreSSL 2.8.3'. See: https://github.com/urllib3/urllib3/issues/3020\n",
      "  warnings.warn(\n"
     ]
    }
   ],
   "source": [
    "from langchain_openai import ChatOpenAI\n",
    "\n",
    "# Set the OpenAI Key and initialize a ChatModel\n",
    "chat_model = ChatOpenAI(openai_api_key=OPENAI_API_KEY)"
   ]
  },
  {
   "cell_type": "code",
   "execution_count": 6,
   "id": "069c2668-961a-43ba-a5ee-ff85b0297cae",
   "metadata": {},
   "outputs": [],
   "source": [
    "from langchain_core.prompts import ChatPromptTemplate\n",
    "\n",
    "chat_template = ChatPromptTemplate.from_messages(\n",
    "    [\n",
    "        (\"system\", \"\"\"You are a helpful AI bot who expertise in Data Science Tutor. \n",
    "                      You are known to make any complex topic simpler even for a beginner.\"\"\"),\n",
    "        (\"human\", \"What is {topic}?\")\n",
    "    ]\n",
    ")"
   ]
  },
  {
   "cell_type": "code",
   "execution_count": 7,
   "id": "afb84660-ae5b-485c-b2f7-b6dbd9788b9e",
   "metadata": {},
   "outputs": [],
   "source": [
    "from langchain_core.output_parsers import StrOutputParser\n",
    "\n",
    "output_parser = StrOutputParser()"
   ]
  },
  {
   "cell_type": "code",
   "execution_count": 8,
   "id": "af9b77b3-15b6-4969-81db-ca93e76d7476",
   "metadata": {},
   "outputs": [],
   "source": [
    "chain = chat_template | chat_model | output_parser"
   ]
  },
  {
   "cell_type": "markdown",
   "id": "0eb9fd74-86a7-4fce-82b8-fffca74189dc",
   "metadata": {},
   "source": [
    "### **chain.invoke()**"
   ]
  },
  {
   "cell_type": "code",
   "execution_count": 9,
   "id": "1211818b-5272-4c83-8545-27189b9ca614",
   "metadata": {},
   "outputs": [
    {
     "data": {
      "text/plain": [
       "\"Feature selection is the process of selecting a subset of relevant features (variables, predictors) for use in model construction. It is an important step in the machine learning pipeline as it helps improve model performance, reduce overfitting, and decrease computational cost.\\n\\nFeature selection methods can be broadly categorized into three types:\\n1. Filter methods: These methods select features based on their statistical properties like correlation, chi-square test, information gain, etc. Features are selected independent of the machine learning model.\\n2. Wrapper methods: These methods select features based on their impact on the performance of a specific machine learning algorithm. They involve training and evaluating multiple models with different subsets of features.\\n3. Embedded methods: These methods perform feature selection as part of the model training process. Features are selected based on their contribution to the model's predictive power.\\n\\nFeature selection is crucial in data science because it helps in:\\n- Improving model accuracy by removing irrelevant or redundant features.\\n- Reducing overfitting by simplifying the model.\\n- Speeding up model training and prediction by working with a smaller set of features.\\n- Enhancing model interpretability by focusing on the most important features.\\n\\nOverall, feature selection is a fundamental step in building effective machine learning models that can generalize well to unseen data.\""
      ]
     },
     "execution_count": 9,
     "metadata": {},
     "output_type": "execute_result"
    }
   ],
   "source": [
    "user_input = {\"topic\": \"Feature Selection\"}\n",
    "\n",
    "chain.invoke(user_input)"
   ]
  },
  {
   "cell_type": "markdown",
   "id": "3f928262-571d-44d2-8885-ba7d4baea364",
   "metadata": {},
   "source": [
    "### **chain.stream()**"
   ]
  },
  {
   "cell_type": "code",
   "execution_count": 12,
   "id": "c1aca568-22e8-47fa-9a13-ff9327eed232",
   "metadata": {},
   "outputs": [
    {
     "name": "stdout",
     "output_type": "stream",
     "text": [
      "Feature selection is the process of selecting a subset of relevant features (variables, predictors) for use in model construction. In simpler terms, it involves choosing the most important attributes that are most relevant to the target variable in a dataset. \n",
      "\n",
      "The main goal of feature selection is to improve the performance of the model by reducing overfitting, simplifying the model, and speeding up the training process. It helps in improving the accuracy and interpretability of the model by focusing only on the most important features.\n",
      "\n",
      "There are various techniques for feature selection such as Filter methods, Wrapper methods, and Embedded methods. Each technique has its own pros and cons, and the choice of method depends on the dataset and the model being used."
     ]
    }
   ],
   "source": [
    "for chunk in chain.stream(user_input):\n",
    "    print(chunk, end=\"\")"
   ]
  },
  {
   "cell_type": "markdown",
   "id": "5684de3e-ab75-4792-b353-c2fcd18bb890",
   "metadata": {},
   "source": [
    "### **Legacy Chains**\n",
    "\n",
    "- **LLMChain (Legacy)**\n",
    "- **SimpleSequentialChain (Legacy)**"
   ]
  }
 ],
 "metadata": {
  "kernelspec": {
   "display_name": "Python 3 (ipykernel)",
   "language": "python",
   "name": "python3"
  },
  "language_info": {
   "codemirror_mode": {
    "name": "ipython",
    "version": 3
   },
   "file_extension": ".py",
   "mimetype": "text/x-python",
   "name": "python",
   "nbconvert_exporter": "python",
   "pygments_lexer": "ipython3",
   "version": "3.9.6"
  }
 },
 "nbformat": 4,
 "nbformat_minor": 5
}
