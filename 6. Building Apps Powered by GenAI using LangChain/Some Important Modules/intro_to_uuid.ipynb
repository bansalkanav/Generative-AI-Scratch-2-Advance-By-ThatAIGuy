{
 "cells": [
  {
   "cell_type": "markdown",
   "id": "69423fd3-ab81-4c6c-9cae-e31b7ed33c81",
   "metadata": {},
   "source": [
    "# **What is UUID?**\n",
    "UUID (Universally Unique Identifier) is a 128-bit unique identifier used to ensure uniqueness across systems, databases, and networks. UUIDs are widely used for assigning unique IDs to objects, transactions, users, and more.\n",
    "\n",
    "It is one of the four types of UUIDs:\n",
    "\n",
    "- uuid1() – Uses timestamp and MAC address.\n",
    "- uuid3() – Uses MD5 hashing with a namespace.\n",
    "- uuid4() – Completely random.\n",
    "- uuid5() – Uses SHA-1 hashing with a namespace."
   ]
  },
  {
   "cell_type": "code",
   "execution_count": 1,
   "id": "0d92ddf1-301a-4f62-9c74-828d61b90102",
   "metadata": {},
   "outputs": [
    {
     "name": "stdout",
     "output_type": "stream",
     "text": [
      "1f49fa33-27f2-4405-8c85-978344af261e\n"
     ]
    }
   ],
   "source": [
    "import uuid\n",
    "\n",
    "unique_id = uuid.uuid4()\n",
    "\n",
    "print(unique_id)"
   ]
  },
  {
   "cell_type": "markdown",
   "id": "c4155c86-bc57-4367-9761-47e128a7ef6d",
   "metadata": {},
   "source": [
    "## **Does uuid.uuid4() Always Generate a Unique ID?**\n",
    "UUIDs generated using uuid4() are statistically unique because they are randomly generated using 128 bits. The total number of possible UUIDs is 2¹²⁸ (≈ 3.4 × 10³⁸), which makes the chances of generating the same UUID twice extremely low.\n",
    "\n",
    "In a well-designed system, UUID collisions are not a concern due to the vast number of possible UUIDs.\n",
    "\n",
    "If you need absolute guarantees of uniqueness, you can use UUID1, which includes a timestamp and MAC address."
   ]
  },
  {
   "cell_type": "code",
   "execution_count": 2,
   "id": "8aedd66d-56d3-4752-9372-4c693f863b64",
   "metadata": {},
   "outputs": [
    {
     "name": "stdout",
     "output_type": "stream",
     "text": [
      "6d2f87d8-f9d1-11ef-88b5-7a680e025736\n"
     ]
    }
   ],
   "source": [
    "unique_id = uuid.uuid1()\n",
    "\n",
    "print(unique_id)"
   ]
  }
 ],
 "metadata": {
  "kernelspec": {
   "display_name": "Python 3 (ipykernel)",
   "language": "python",
   "name": "python3"
  },
  "language_info": {
   "codemirror_mode": {
    "name": "ipython",
    "version": 3
   },
   "file_extension": ".py",
   "mimetype": "text/x-python",
   "name": "python",
   "nbconvert_exporter": "python",
   "pygments_lexer": "ipython3",
   "version": "3.9.6"
  }
 },
 "nbformat": 4,
 "nbformat_minor": 5
}
