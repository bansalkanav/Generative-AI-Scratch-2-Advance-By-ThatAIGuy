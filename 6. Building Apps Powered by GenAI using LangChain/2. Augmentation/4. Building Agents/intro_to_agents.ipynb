{
 "cells": [
  {
   "cell_type": "markdown",
   "id": "0c9781c1-c824-4032-acb2-b0f94d316580",
   "metadata": {},
   "source": [
    "# **Introduction to Building Agents**\n",
    "\n",
    "In this notebook we are going to first see how to build a basic agent.\n",
    "\n",
    "Later we will use LangGraph to build powerful agents."
   ]
  },
  {
   "cell_type": "markdown",
   "id": "120d13c3-8e5b-429e-befa-93af8537b794",
   "metadata": {},
   "source": [
    "## **Step 1 - Initializing a Large Language Model**"
   ]
  },
  {
   "cell_type": "code",
   "execution_count": 1,
   "id": "209e5ad5-339c-4f6e-b421-9eece8a5973b",
   "metadata": {},
   "outputs": [
    {
     "name": "stderr",
     "output_type": "stream",
     "text": [
      "/Users/kanavbansal/Developer/.env_jupyter/lib/python3.9/site-packages/urllib3/__init__.py:35: NotOpenSSLWarning: urllib3 v2 only supports OpenSSL 1.1.1+, currently the 'ssl' module is compiled with 'LibreSSL 2.8.3'. See: https://github.com/urllib3/urllib3/issues/3020\n",
      "  warnings.warn(\n"
     ]
    }
   ],
   "source": [
    "from langchain_openai import ChatOpenAI"
   ]
  },
  {
   "cell_type": "code",
   "execution_count": 2,
   "id": "87e1c61c-3f6b-4184-b43e-c94e8c97ed1b",
   "metadata": {},
   "outputs": [],
   "source": [
    "# Setup API Key\n",
    "\n",
    "f = open('keys/.openai_api_key.txt')\n",
    "\n",
    "OPENAI_API_KEY = f.read()"
   ]
  },
  {
   "cell_type": "code",
   "execution_count": 3,
   "id": "ae41ee02-0188-4a24-a59c-7c4823b44599",
   "metadata": {},
   "outputs": [
    {
     "data": {
      "text/plain": [
       "AIMessage(content='Hello! How can I assist you today?', additional_kwargs={'refusal': None}, response_metadata={'token_usage': {'completion_tokens': 10, 'prompt_tokens': 8, 'total_tokens': 18, 'completion_tokens_details': {'accepted_prediction_tokens': 0, 'audio_tokens': 0, 'reasoning_tokens': 0, 'rejected_prediction_tokens': 0}, 'prompt_tokens_details': {'audio_tokens': 0, 'cached_tokens': 0}}, 'model_name': 'gpt-4o-mini-2024-07-18', 'system_fingerprint': 'fp_bd83329f63', 'finish_reason': 'stop', 'logprobs': None}, id='run-5422a792-c580-416b-b443-3638e1e54bc4-0', usage_metadata={'input_tokens': 8, 'output_tokens': 10, 'total_tokens': 18, 'input_token_details': {'audio': 0, 'cache_read': 0}, 'output_token_details': {'audio': 0, 'reasoning': 0}})"
      ]
     },
     "execution_count": 3,
     "metadata": {},
     "output_type": "execute_result"
    }
   ],
   "source": [
    "llm = ChatOpenAI(openai_api_key=OPENAI_API_KEY,\n",
    "                 model=\"gpt-4o-mini\",\n",
    "                 temperature=0.0)\n",
    "\n",
    "llm.invoke(\"Hi\")"
   ]
  },
  {
   "cell_type": "markdown",
   "id": "1a6fbec9-e1f9-469e-bac4-f7ca4bfe00f0",
   "metadata": {},
   "source": [
    "## **Step 2 - Initializing a Tool**"
   ]
  },
  {
   "cell_type": "code",
   "execution_count": 4,
   "id": "85e0d709-c7ba-49cd-99c2-b360ae896ac6",
   "metadata": {},
   "outputs": [
    {
     "data": {
      "text/plain": [
       "'The current date and time is 2025-02-13 14:51:10'"
      ]
     },
     "execution_count": 4,
     "metadata": {},
     "output_type": "execute_result"
    }
   ],
   "source": [
    "from langchain_core.tools import tool\n",
    "from datetime import datetime\n",
    "\n",
    "@tool\n",
    "def current_datetime():\n",
    "    \"\"\"This function tells the current date and time.\"\"\"\n",
    "    current_datetime = datetime.now().strftime(\"%Y-%m-%d %H:%M:%S\")\n",
    "    return f\"The current date and time is {current_datetime}\"\n",
    "\n",
    "current_datetime.invoke({})"
   ]
  },
  {
   "cell_type": "markdown",
   "id": "3d1f9724-da2e-4f58-a8b8-77fec03ae933",
   "metadata": {},
   "source": [
    "## **Step 3 - Init an Agent (i.e. Binding the Tool with a LLM)**"
   ]
  },
  {
   "cell_type": "code",
   "execution_count": 5,
   "id": "b8cf20fb-cdff-4c6d-be8c-a7c6aea4f03f",
   "metadata": {},
   "outputs": [
    {
     "data": {
      "text/plain": [
       "RunnableBinding(bound=ChatOpenAI(client=<openai.resources.chat.completions.Completions object at 0x10c8e6b20>, async_client=<openai.resources.chat.completions.AsyncCompletions object at 0x10c8c3cd0>, root_client=<openai.OpenAI object at 0x10c8a77f0>, root_async_client=<openai.AsyncOpenAI object at 0x10c8e6b80>, model_name='gpt-4o-mini', temperature=0.0, model_kwargs={}, openai_api_key=SecretStr('**********')), kwargs={'tools': [{'type': 'function', 'function': {'name': 'current_datetime', 'description': 'This function tells the current date and time.', 'parameters': {'properties': {}, 'type': 'object'}}}]}, config={}, config_factories=[])"
      ]
     },
     "execution_count": 5,
     "metadata": {},
     "output_type": "execute_result"
    }
   ],
   "source": [
    "llm_with_tool = llm.bind_tools([current_datetime])\n",
    "\n",
    "llm_with_tool"
   ]
  },
  {
   "cell_type": "code",
   "execution_count": 6,
   "id": "a6df8cf2-1b2e-4d11-a908-9f8c4dca5b45",
   "metadata": {},
   "outputs": [
    {
     "name": "stdout",
     "output_type": "stream",
     "text": [
      "Content: Hello! How can I assist you today?\n",
      "Tool Call: []\n"
     ]
    }
   ],
   "source": [
    "response = llm_with_tool.invoke(\"Hi\")\n",
    "\n",
    "print(f\"Content: {response.content}\")\n",
    "print(f\"Tool Call: {response.tool_calls}\")"
   ]
  },
  {
   "cell_type": "code",
   "execution_count": 7,
   "id": "38405dbc-52f7-4e26-952d-62f5490723a6",
   "metadata": {},
   "outputs": [
    {
     "name": "stdout",
     "output_type": "stream",
     "text": [
      "Content: \n",
      "Tool Call: [{'name': 'current_datetime', 'args': {}, 'id': 'call_pQ9MIOiVKMgsFx3pG47dHYlL', 'type': 'tool_call'}]\n"
     ]
    }
   ],
   "source": [
    "response = llm_with_tool.invoke(\"What is the current date?\")\n",
    "\n",
    "print(f\"Content: {response.content}\")\n",
    "print(f\"Tool Call: {response.tool_calls}\")"
   ]
  },
  {
   "cell_type": "markdown",
   "id": "f17b29d3-b1c1-4c31-97ce-ddf763b7aec6",
   "metadata": {},
   "source": [
    "## **Step 4 - Executing the Agent**"
   ]
  },
  {
   "cell_type": "code",
   "execution_count": 8,
   "id": "3970ce6d-117e-40ee-a822-f024b9e54610",
   "metadata": {},
   "outputs": [],
   "source": [
    "dict_with_tool_names = {\n",
    "    \"current_datetime\": current_datetime,\n",
    "}\n",
    "\n",
    "def custom_agent_executor(response):\n",
    "    if response.tool_calls:\n",
    "        for tool_calls in response.tool_calls:\n",
    "            tool_name = tool_calls[\"name\"]\n",
    "            tool_args = tool_calls[\"args\"]\n",
    "            tool_func = dict_with_tool_names[tool_name]\n",
    "            return tool_func.invoke(tool_args)\n",
    "    else:\n",
    "        return response.content"
   ]
  },
  {
   "cell_type": "code",
   "execution_count": 9,
   "id": "5e73b2ff-e892-4c4b-a5b1-bbce12ef5b44",
   "metadata": {},
   "outputs": [
    {
     "data": {
      "text/plain": [
       "'Hello! How can I assist you today?'"
      ]
     },
     "execution_count": 9,
     "metadata": {},
     "output_type": "execute_result"
    }
   ],
   "source": [
    "custom_agent_executor(llm_with_tool.invoke(\"Hi\"))"
   ]
  },
  {
   "cell_type": "code",
   "execution_count": 10,
   "id": "7c94fd7d-677e-4db0-90d2-e79f6b1ac088",
   "metadata": {},
   "outputs": [
    {
     "data": {
      "text/plain": [
       "'The current date and time is 2025-02-13 14:51:20'"
      ]
     },
     "execution_count": 10,
     "metadata": {},
     "output_type": "execute_result"
    }
   ],
   "source": [
    "custom_agent_executor(llm_with_tool.invoke(\"What is the time?\"))"
   ]
  },
  {
   "cell_type": "markdown",
   "id": "967e71ef-5f8b-403c-a5a1-8315254f21c5",
   "metadata": {},
   "source": [
    "# **A Better Implementation**"
   ]
  },
  {
   "cell_type": "markdown",
   "id": "d42f4de2-cab8-4d36-9a5b-490c893bd030",
   "metadata": {},
   "source": [
    "## **Step 1 - Init a LLM**"
   ]
  },
  {
   "cell_type": "markdown",
   "id": "1f910ede-6e86-44a4-80fb-57504e2fa4b7",
   "metadata": {},
   "source": [
    "## **Step 2 - Init a Tool**"
   ]
  },
  {
   "cell_type": "code",
   "execution_count": 11,
   "id": "91dd32c0-f764-405d-9321-96516e15960f",
   "metadata": {},
   "outputs": [
    {
     "data": {
      "text/plain": [
       "'The current date and time is 2025-02-13 14:51:37'"
      ]
     },
     "execution_count": 11,
     "metadata": {},
     "output_type": "execute_result"
    }
   ],
   "source": [
    "from datetime import datetime\n",
    "\n",
    "def current_datetime():\n",
    "    \"\"\"This function tells the current date and time.\"\"\"\n",
    "    current_datetime = datetime.now().strftime(\"%Y-%m-%d %H:%M:%S\")\n",
    "    return f\"The current date and time is {current_datetime}\"\n",
    "\n",
    "current_datetime()"
   ]
  },
  {
   "cell_type": "markdown",
   "id": "e6033947-e070-4b85-8e6d-3809e494904d",
   "metadata": {},
   "source": [
    "## **Step 3 - Init an Agent**"
   ]
  },
  {
   "cell_type": "code",
   "execution_count": 12,
   "id": "787d9aef-5b9d-4b00-91f9-70077fff223e",
   "metadata": {},
   "outputs": [],
   "source": [
    "# ! pip install langgraph"
   ]
  },
  {
   "cell_type": "code",
   "execution_count": 13,
   "id": "8edf6247-740c-43a3-80eb-a91b3678db6b",
   "metadata": {},
   "outputs": [],
   "source": [
    "from langgraph.prebuilt import create_react_agent\n",
    "\n",
    "agent_executor = create_react_agent(model=llm, tools=[current_datetime])"
   ]
  },
  {
   "cell_type": "markdown",
   "id": "0b6f5ac2-1274-4ded-abc1-ba652cc1f68b",
   "metadata": {},
   "source": [
    "**IMPORTANT:** Note that we are passing in the **llm**, not **llm_with_tools**. That is because **create_react_agent** will call **.bind_tools** for us under the hood."
   ]
  },
  {
   "cell_type": "markdown",
   "id": "171eafb6-6b0a-442d-893f-422bae809124",
   "metadata": {},
   "source": [
    "## **Step 4 - Execute the Agent**"
   ]
  },
  {
   "cell_type": "code",
   "execution_count": 14,
   "id": "91690b0b-8315-4323-961f-14e41b5b93a7",
   "metadata": {},
   "outputs": [
    {
     "data": {
      "text/plain": [
       "{'messages': [HumanMessage(content='Hi', additional_kwargs={}, response_metadata={}, id='2ffd2555-552b-4636-abc5-60bb123c54a0'),\n",
       "  AIMessage(content='Hello! How can I assist you today?', additional_kwargs={'refusal': None}, response_metadata={'token_usage': {'completion_tokens': 11, 'prompt_tokens': 41, 'total_tokens': 52, 'completion_tokens_details': {'accepted_prediction_tokens': 0, 'audio_tokens': 0, 'reasoning_tokens': 0, 'rejected_prediction_tokens': 0}, 'prompt_tokens_details': {'audio_tokens': 0, 'cached_tokens': 0}}, 'model_name': 'gpt-4o-mini-2024-07-18', 'system_fingerprint': 'fp_bd83329f63', 'finish_reason': 'stop', 'logprobs': None}, id='run-374e8030-b6a1-48b3-9a40-25a9b4030f79-0', usage_metadata={'input_tokens': 41, 'output_tokens': 11, 'total_tokens': 52, 'input_token_details': {'audio': 0, 'cache_read': 0}, 'output_token_details': {'audio': 0, 'reasoning': 0}})]}"
      ]
     },
     "execution_count": 14,
     "metadata": {},
     "output_type": "execute_result"
    }
   ],
   "source": [
    "response = agent_executor.invoke({\"messages\": \"Hi\"})\n",
    "\n",
    "response"
   ]
  },
  {
   "cell_type": "code",
   "execution_count": 15,
   "id": "4141ec38-20c8-49db-b3e4-6412f1c61d6f",
   "metadata": {},
   "outputs": [
    {
     "data": {
      "text/plain": [
       "{'messages': [HumanMessage(content='What is the time?', additional_kwargs={}, response_metadata={}, id='3e79aa20-e204-47c7-8d0a-5248d2acdc32'),\n",
       "  AIMessage(content='', additional_kwargs={'tool_calls': [{'id': 'call_CfYEaA4KFn0n6AxQAzM98cSj', 'function': {'arguments': '{}', 'name': 'current_datetime'}, 'type': 'function'}], 'refusal': None}, response_metadata={'token_usage': {'completion_tokens': 11, 'prompt_tokens': 45, 'total_tokens': 56, 'completion_tokens_details': {'accepted_prediction_tokens': 0, 'audio_tokens': 0, 'reasoning_tokens': 0, 'rejected_prediction_tokens': 0}, 'prompt_tokens_details': {'audio_tokens': 0, 'cached_tokens': 0}}, 'model_name': 'gpt-4o-mini-2024-07-18', 'system_fingerprint': 'fp_72ed7ab54c', 'finish_reason': 'tool_calls', 'logprobs': None}, id='run-e4d17a57-2af9-4804-a4c3-770f8685bead-0', tool_calls=[{'name': 'current_datetime', 'args': {}, 'id': 'call_CfYEaA4KFn0n6AxQAzM98cSj', 'type': 'tool_call'}], usage_metadata={'input_tokens': 45, 'output_tokens': 11, 'total_tokens': 56, 'input_token_details': {'audio': 0, 'cache_read': 0}, 'output_token_details': {'audio': 0, 'reasoning': 0}}),\n",
       "  ToolMessage(content='The current date and time is 2025-02-13 14:52:10', name='current_datetime', id='a89b8c63-38ff-4f30-86cf-052e84111630', tool_call_id='call_CfYEaA4KFn0n6AxQAzM98cSj'),\n",
       "  AIMessage(content='The current time is 14:52 (2:52 PM) on February 13, 2025.', additional_kwargs={'refusal': None}, response_metadata={'token_usage': {'completion_tokens': 25, 'prompt_tokens': 82, 'total_tokens': 107, 'completion_tokens_details': {'accepted_prediction_tokens': 0, 'audio_tokens': 0, 'reasoning_tokens': 0, 'rejected_prediction_tokens': 0}, 'prompt_tokens_details': {'audio_tokens': 0, 'cached_tokens': 0}}, 'model_name': 'gpt-4o-mini-2024-07-18', 'system_fingerprint': 'fp_bd83329f63', 'finish_reason': 'stop', 'logprobs': None}, id='run-19501893-82d6-4947-83fb-bf80ae478098-0', usage_metadata={'input_tokens': 82, 'output_tokens': 25, 'total_tokens': 107, 'input_token_details': {'audio': 0, 'cache_read': 0}, 'output_token_details': {'audio': 0, 'reasoning': 0}})]}"
      ]
     },
     "execution_count": 15,
     "metadata": {},
     "output_type": "execute_result"
    }
   ],
   "source": [
    "response = agent_executor.invoke({\"messages\": \"What is the time?\"})\n",
    "\n",
    "response"
   ]
  },
  {
   "cell_type": "markdown",
   "id": "2a494a67-14db-4ab4-b2ed-b76d150dedf7",
   "metadata": {},
   "source": [
    "## **Step 5 - Pretty Print**"
   ]
  },
  {
   "cell_type": "code",
   "execution_count": 25,
   "id": "ea91e7e1-7f3b-46e4-bdf6-fff92c7d76d5",
   "metadata": {},
   "outputs": [],
   "source": [
    "def printer(input_prompt):\n",
    "    for s in agent_executor.stream(input_prompt, stream_mode=\"values\"):\n",
    "        msg = s[\"messages\"][-1]\n",
    "        if isinstance(msg, tuple):\n",
    "            print(\"tuple:\", msg)\n",
    "        else:\n",
    "            msg.pretty_print()"
   ]
  },
  {
   "cell_type": "code",
   "execution_count": 26,
   "id": "d9fef8c4-c586-4bfd-b230-3034f3f45e60",
   "metadata": {},
   "outputs": [
    {
     "name": "stdout",
     "output_type": "stream",
     "text": [
      "================================\u001b[1m Human Message \u001b[0m=================================\n",
      "\n",
      "hi\n",
      "==================================\u001b[1m Ai Message \u001b[0m==================================\n",
      "\n",
      "Hello! How can I assist you today?\n"
     ]
    }
   ],
   "source": [
    "printer(input_prompt={\"messages\": \"hi\"})"
   ]
  },
  {
   "cell_type": "code",
   "execution_count": 27,
   "id": "4c46f76a-26a9-4db1-9b04-5a4e132335e0",
   "metadata": {},
   "outputs": [
    {
     "name": "stdout",
     "output_type": "stream",
     "text": [
      "================================\u001b[1m Human Message \u001b[0m=================================\n",
      "\n",
      "time?\n",
      "==================================\u001b[1m Ai Message \u001b[0m==================================\n",
      "Tool Calls:\n",
      "  current_datetime (call_mM9vGAiVnymCpdw93OxTihDo)\n",
      " Call ID: call_mM9vGAiVnymCpdw93OxTihDo\n",
      "  Args:\n",
      "=================================\u001b[1m Tool Message \u001b[0m=================================\n",
      "Name: current_datetime\n",
      "\n",
      "The current date and time is 2025-02-13 14:59:25\n",
      "==================================\u001b[1m Ai Message \u001b[0m==================================\n",
      "\n",
      "The current date and time is February 13, 2025, at 14:59:25.\n"
     ]
    }
   ],
   "source": [
    "printer(input_prompt={\"messages\": \"time?\"})"
   ]
  }
 ],
 "metadata": {
  "kernelspec": {
   "display_name": "Python 3 (ipykernel)",
   "language": "python",
   "name": "python3"
  },
  "language_info": {
   "codemirror_mode": {
    "name": "ipython",
    "version": 3
   },
   "file_extension": ".py",
   "mimetype": "text/x-python",
   "name": "python",
   "nbconvert_exporter": "python",
   "pygments_lexer": "ipython3",
   "version": "3.9.6"
  }
 },
 "nbformat": 4,
 "nbformat_minor": 5
}
