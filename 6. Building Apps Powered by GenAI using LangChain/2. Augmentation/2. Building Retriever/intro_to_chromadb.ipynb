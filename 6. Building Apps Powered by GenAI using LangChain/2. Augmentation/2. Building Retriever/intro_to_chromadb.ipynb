{
 "cells": [
  {
   "cell_type": "markdown",
   "id": "4cfae4db-1f0d-4554-b628-ab21fc0dac1b",
   "metadata": {},
   "source": [
    "# **Introduction to Vector Databases - ChromaDB**\n",
    "\n",
    "Chroma is the open-source AI application database.\n",
    "\n",
    "[Click here](https://www.trychroma.com/) to visit the official website.\n",
    "\n",
    "<img src=\"images/chromadb_1.png\">\n",
    "\n",
    "### **Features**\n",
    "1. **Has everything we need for retrieval**\n",
    "    - Store document embedding and their metadata\n",
    "    - Search Embeddings\n",
    "    - Full-tect Search\n",
    "    - Metadata filtering\n",
    "    - Multi-modal retrieval\n",
    "2. **Free and Open source**\n",
    "3. **Integrations** \n",
    "    - Works with HuggingFace, OpenAI, Google, LangChain and more.\n",
    "4. **Simple to Get Started**\n",
    "    - ```pip install chromadb```\n",
    "  \n",
    "### **Syntax**\n",
    "```python\n",
    "import chromadb\n",
    "\n",
    "# Initiating a Persistent Chroma Client\n",
    "client = chromadb.PersistentClient(path=\"/path/to/save/to\")\n",
    "\n",
    "# Create a new collection or get if already exist\n",
    "collection = client.get_or_create_collection(name=\"my_collection\", embedding_function=emb_fn, metadata={\"hnsw:space\": \"cosine\"})\n",
    "\n",
    "# add embeddings and documents\n",
    "collection.add(\n",
    "    documents=[\n",
    "        \"This is a document about pineapple\",\n",
    "        \"This is a document about oranges\"\n",
    "    ], \n",
    "    metadatas=[{\"key_1\": \"value_1\", \"key_2\": \"value_2\"}, {\"key_1\": \"value_1\", \"key_2\": \"value_2\"}],\n",
    "    ids=[\"id1\", \"id2\"]\n",
    ")\n",
    "\n",
    "# get back similar embeddings\n",
    "# Note that Chroma will embed query_texts for you and return n_results\n",
    "results = collection.query(\n",
    "    query_texts=[\"This is a query document about hawaii\"], \n",
    "    n_results=2\n",
    ")\n",
    "\n",
    "# switch `add` to `upsert` to avoid adding the same documents every time\n",
    "collection.upsert(\n",
    "    documents=[\n",
    "        \"This is a document about pineapple\",\n",
    "        \"This is a document about oranges\"\n",
    "    ],\n",
    "    ids=[\"id1\", \"id2\"]\n",
    ")\n",
    "\n",
    "```\n",
    "\n",
    "[Click here](https://docs.trychroma.com/guides) to read the complete chromadb guide."
   ]
  },
  {
   "cell_type": "code",
   "execution_count": 1,
   "id": "95ab8728-c6d6-4c10-82e3-0953fe42508a",
   "metadata": {},
   "outputs": [],
   "source": [
    "# ! pip install chromadb"
   ]
  },
  {
   "cell_type": "markdown",
   "id": "abb066b1-3f75-4e4e-bb2a-5d5b6eb328d7",
   "metadata": {},
   "source": [
    "## **Initiating a Persistent Client**"
   ]
  },
  {
   "cell_type": "code",
   "execution_count": 2,
   "id": "36b1e62c-21e0-45b6-b1db-0fa21407e6ce",
   "metadata": {},
   "outputs": [
    {
     "name": "stderr",
     "output_type": "stream",
     "text": [
      "/Users/kanavbansal/Developer/.env_jupyter/lib/python3.9/site-packages/urllib3/__init__.py:35: NotOpenSSLWarning: urllib3 v2 only supports OpenSSL 1.1.1+, currently the 'ssl' module is compiled with 'LibreSSL 2.8.3'. See: https://github.com/urllib3/urllib3/issues/3020\n",
      "  warnings.warn(\n"
     ]
    }
   ],
   "source": [
    "import chromadb\n",
    "\n",
    "client = chromadb.PersistentClient(path=\"vector_store\")"
   ]
  },
  {
   "cell_type": "code",
   "execution_count": 3,
   "id": "09ca08f1-6af0-4599-9db6-477269e1e7e5",
   "metadata": {},
   "outputs": [
    {
     "data": {
      "text/plain": [
       "1741185893226106000"
      ]
     },
     "execution_count": 3,
     "metadata": {},
     "output_type": "execute_result"
    }
   ],
   "source": [
    "# returns a nanosecond heartbeat. Useful for making sure the client remains connected.\n",
    "\n",
    "client.heartbeat()"
   ]
  },
  {
   "cell_type": "code",
   "execution_count": 4,
   "id": "0851cd5c-66d5-4284-900b-ae3a63fc5f56",
   "metadata": {},
   "outputs": [],
   "source": [
    "# # Empties and completely resets the database. ⚠️ This is destructive and not reversible.\n",
    "\n",
    "# client.reset() \n",
    "\n",
    "# # Note that to reset make following changes to your configurations\n",
    "# # set `allow_reset` to `True` in your Settings() or \n",
    "# # include `ALLOW_RESET=TRUE` in your environment variables"
   ]
  },
  {
   "cell_type": "markdown",
   "id": "051c91d6-315d-4968-996c-c324c8f0b390",
   "metadata": {},
   "source": [
    "## **Create a Collection**\n",
    "\n",
    "**Parameters**\n",
    "- **name**\n",
    "- **embedding_function**: By default, Chroma uses the Sentence Transformers all-MiniLM-L6-v2 model to create embeddings.\n",
    "- **metadata={\"hnsw:space\": \"cosine\"}**: By default L2 distance"
   ]
  },
  {
   "cell_type": "code",
   "execution_count": 5,
   "id": "b723142b-f047-4e1e-bb4a-03ec479c57d9",
   "metadata": {},
   "outputs": [],
   "source": [
    "collection = client.create_collection(name=\"my_first_collection\")\n",
    "\n",
    "# Alternatively you can also use client.get_or_create_collection()"
   ]
  },
  {
   "cell_type": "code",
   "execution_count": 6,
   "id": "63c1ec7b-ea93-4313-be1c-1d759fc9aee4",
   "metadata": {},
   "outputs": [
    {
     "data": {
      "text/plain": [
       "0"
      ]
     },
     "execution_count": 6,
     "metadata": {},
     "output_type": "execute_result"
    }
   ],
   "source": [
    "# returns the number of items in the collection\n",
    "\n",
    "collection.count()"
   ]
  },
  {
   "cell_type": "code",
   "execution_count": 7,
   "id": "1d542809-bcef-46da-b4f0-cbb8abbca3b7",
   "metadata": {},
   "outputs": [
    {
     "data": {
      "text/plain": [
       "{'ids': [],\n",
       " 'embeddings': [],\n",
       " 'metadatas': [],\n",
       " 'documents': [],\n",
       " 'uris': None,\n",
       " 'data': None,\n",
       " 'included': ['embeddings', 'metadatas', 'documents']}"
      ]
     },
     "execution_count": 7,
     "metadata": {},
     "output_type": "execute_result"
    }
   ],
   "source": [
    "# returns a list of the first 10 items in the collection\n",
    "\n",
    "collection.peek()"
   ]
  },
  {
   "cell_type": "code",
   "execution_count": 8,
   "id": "46833ccf-b1aa-405d-a25a-7a146b9ee328",
   "metadata": {},
   "outputs": [],
   "source": [
    "# Rename the collection\n",
    "\n",
    "collection.modify(name=\"name_modified\")"
   ]
  },
  {
   "cell_type": "markdown",
   "id": "6f07a41b-ca38-493d-b1fb-cdfc2a670b98",
   "metadata": {},
   "source": [
    "## **Get An Already Existing Collection**"
   ]
  },
  {
   "cell_type": "code",
   "execution_count": 9,
   "id": "1bdaa9e1-c818-451c-8be0-beb07f1d4bbd",
   "metadata": {},
   "outputs": [],
   "source": [
    "collection = client.get_collection(name=\"name_modified\")\n",
    "\n",
    "# Alternatively you can also use client.get_or_create_collection()"
   ]
  },
  {
   "cell_type": "markdown",
   "id": "36e8a6d5-4540-4698-8ed2-9a2b00548cc3",
   "metadata": {},
   "source": [
    "## **Adding data to Collection**"
   ]
  },
  {
   "cell_type": "code",
   "execution_count": 11,
   "id": "35356c2a-296c-4f7a-b49a-1ad947ffe304",
   "metadata": {},
   "outputs": [],
   "source": [
    "# add embeddings and documents\n",
    "\n",
    "data = [\n",
    "    \"Apples - High in fiber, support digestion, and promote heart health.\",\n",
    "    \"Bananas - Rich in potassium, help regulate blood pressure and muscle function.\",\n",
    "    \"Oranges - Packed with vitamin C, boost immunity, and promote skin health.\",\n",
    "    \"Blueberries - High in antioxidants, improve brain function and reduce inflammation.\",\n",
    "    \"Strawberries - Support heart health and contain anti-aging antioxidants.\",\n",
    "    \"Watermelon - Hydrating fruit with lycopene, good for heart and skin health.\",\n",
    "    \"Pineapple - Contains bromelain, aids digestion, and reduces inflammation.\",\n",
    "    \"Avocado - Loaded with healthy fats, supports brain and heart health.\",\n",
    "    \"Papaya - Rich in enzymes for digestion and boosts skin health.\",\n",
    "    \"Pomegranate - Full of antioxidants, improves blood circulation, and heart health.\",\n",
    "    \"Carrots - High in beta-carotene, improve eye health and skin glow.\",\n",
    "    \"Spinach - Rich in iron, good for blood health and energy levels.\",\n",
    "    \"Broccoli - Contains sulforaphane, which has anti-cancer properties.\",\n",
    "    \"Tomatoes - Packed with lycopene, supports heart health and skin protection.\",\n",
    "    \"Bell Peppers - High in vitamin C, boosts immunity, and reduces inflammation.\",\n",
    "    \"Cucumber - Hydrating vegetable, aids in digestion, and supports skin health.\",\n",
    "    \"Garlic - Has antibacterial properties, supports heart health and immunity.\",\n",
    "    \"Ginger - Anti-inflammatory, helps with digestion and nausea relief.\",\n",
    "    \"Beets - Improve blood flow, support endurance, and detox the liver.\",\n",
    "    \"Sweet Potatoes - Rich in fiber and vitamin A, supports vision and digestion.\"\n",
    "    ]\n",
    "\n",
    "collection.add(\n",
    "    documents = data,\n",
    "    ids=[ str(uuid.uuid4()) for i in range(len(data)) ]\n",
    "    # metadatas=[{\"key_1\": \"abc_1\", \"key_2\": \"abc_2\"}, {\"key_1\": \"xyz_1\", \"key_2\": \"xyz_2\"}]\n",
    ")"
   ]
  },
  {
   "cell_type": "code",
   "execution_count": 12,
   "id": "a1e84a5d-5ed2-4cae-870f-5be87edb3c58",
   "metadata": {},
   "outputs": [
    {
     "data": {
      "text/plain": [
       "20"
      ]
     },
     "execution_count": 12,
     "metadata": {},
     "output_type": "execute_result"
    }
   ],
   "source": [
    "collection.count()"
   ]
  },
  {
   "cell_type": "code",
   "execution_count": 13,
   "id": "173eb07d-33a6-453b-92cb-5a87c1ee88ca",
   "metadata": {},
   "outputs": [],
   "source": [
    "# # You can peek to check the top 10 documents embeddings\n",
    "\n",
    "# collection.peek()"
   ]
  },
  {
   "cell_type": "markdown",
   "id": "554fd82d-6ad8-467e-b274-74c592a18093",
   "metadata": {},
   "source": [
    "## **Search Embeddings**"
   ]
  },
  {
   "cell_type": "code",
   "execution_count": 14,
   "id": "8a9e91cb-1054-46f1-a9ff-40acd59c2a0c",
   "metadata": {},
   "outputs": [],
   "source": [
    "# results = collection.query(\n",
    "#     query_texts=[\"digestion, fiber rich\"], \n",
    "#     n_results=3\n",
    "# )\n",
    "\n",
    "# results"
   ]
  },
  {
   "cell_type": "code",
   "execution_count": 15,
   "id": "ced90680-ed7b-4233-9baf-e5c0070bb02b",
   "metadata": {},
   "outputs": [],
   "source": [
    "# results = collection.query(\n",
    "#     query_texts=[\"vitamin rich\"], \n",
    "#     n_results=3\n",
    "# )\n",
    "\n",
    "# results[\"documents\"]"
   ]
  }
 ],
 "metadata": {
  "kernelspec": {
   "display_name": "Python 3 (ipykernel)",
   "language": "python",
   "name": "python3"
  },
  "language_info": {
   "codemirror_mode": {
    "name": "ipython",
    "version": 3
   },
   "file_extension": ".py",
   "mimetype": "text/x-python",
   "name": "python",
   "nbconvert_exporter": "python",
   "pygments_lexer": "ipython3",
   "version": "3.9.6"
  }
 },
 "nbformat": 4,
 "nbformat_minor": 5
}
