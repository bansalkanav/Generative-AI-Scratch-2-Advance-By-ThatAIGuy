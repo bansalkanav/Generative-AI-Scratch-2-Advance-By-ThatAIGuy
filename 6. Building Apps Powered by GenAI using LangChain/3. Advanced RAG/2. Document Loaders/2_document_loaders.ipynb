{
 "cells": [
  {
   "cell_type": "markdown",
   "id": "c57c6a13-0d30-47fc-9472-26a69e6b4d7f",
   "metadata": {},
   "source": [
    "# **Document Loaders**\n",
    "Use document loaders to load data from a source as `Document`.\n",
    "\n",
    "Document loaders provide a \"load\" method for loading data as documents from a configured source. They optionally implement a \"lazy load\" as well for lazily loading data into memory.\n",
    "\n",
    "1. **Text Loaders**\n",
    "```python\n",
    "from langchain_community.document_loaders import TextLoader\n",
    "loader = TextLoader(\"./index.md\")\n",
    "loader.load()\n",
    "```\n",
    "\n",
    "2. **CSV**\n",
    "```python\n",
    "from langchain_community.document_loaders.csv_loader import CSVLoader\n",
    "loader = CSVLoader(file_path='./example_data/mlb_teams_2012.csv')\n",
    "data = loader.load()\n",
    "```\n",
    "3. **HTML**\n",
    "```python\n",
    "from langchain_community.document_loaders import UnstructuredHTMLLoader\n",
    "loader = UnstructuredHTMLLoader(\"example_data/fake-content.html\")\n",
    "data = loader.load()\n",
    "```\n",
    "4. **Web Base Loader**\n",
    "```python\n",
    "# !pip install beautifulsoup4\n",
    "from langchain_community.document_loaders import WebBaseLoader\n",
    "loader = WebBaseLoader(\"https://docs.smith.langchain.com/user_guide\")\n",
    "data = loader.load()\n",
    "```\n",
    "5. **JSON**  \n",
    "[Click Here](https://python.langchain.com/docs/modules/data_connection/document_loaders/json) for detailed docs.  \n",
    "Suppose we are interested in extracting the values under the `content` field within the `messages` key of the JSON data. This can easily be done through the JSONLoader as shown below.\n",
    "```python\n",
    "#!pip install jq\n",
    "from langchain_community.document_loaders import JSONLoader\n",
    "loader = JSONLoader(\n",
    "    file_path='./example_data/facebook_chat.json',\n",
    "    jq_schema='.messages[].content',\n",
    "    text_content=False)\n",
    "\n",
    "data = loader.load()\n",
    "```\n",
    "\n",
    "6. **PDF**  \n",
    "[Click here](https://python.langchain.com/docs/modules/data_connection/document_loaders/pdf) for detailed docs.  \n",
    "Make sure to install: `pip install pypdf`\n",
    "\n",
    "```python\n",
    "from langchain_community.document_loaders import PyPDFLoader\n",
    "\n",
    "loader = PyPDFLoader(\"example_data/layout-parser-paper.pdf\")\n",
    "pages = loader.load_and_split()\n",
    "```\n",
    "\n",
    "7. **File Directory**  \n",
    "[Click Here](https://python.langchain.com/docs/modules/data_connection/document_loaders/file_directory) for detailed docs.\n",
    "Under the hood it uses UnstructuredLoader.  \n",
    "Make sure to install: `pip install \"unstructured[all-docs]\"`  \n",
    "This covers how to load all documents in a directory. We can use the `glob` parameter to control which files to load.\n",
    "\n",
    "```python\n",
    "from langchain_community.document_loaders import DirectoryLoader\n",
    "from langchain_community.document_loaders import TextLoader\n",
    "\n",
    "loader = DirectoryLoader('../', glob=\"**/*.md\", show_progress=True, loader_cls=TextLoader)\n",
    "docs = loader.load()\n",
    "```"
   ]
  },
  {
   "cell_type": "code",
   "execution_count": 1,
   "id": "50a8b22a-92d2-43fa-9f7b-568e4a00da4f",
   "metadata": {},
   "outputs": [],
   "source": [
    "# !pip install \"unstructured[all-docs]\"\n",
    "# !pip install jq\n",
    "# !pip install pypdf\n",
    "# !pip install pymupdf"
   ]
  },
  {
   "cell_type": "markdown",
   "id": "ffcef185-5b87-4a93-a1b3-8e67a2be39be",
   "metadata": {},
   "source": [
    "## **Loading one .srt File**"
   ]
  },
  {
   "cell_type": "code",
   "execution_count": 2,
   "id": "1232873c-aafe-4629-8223-b8ac24aab1d0",
   "metadata": {},
   "outputs": [
    {
     "name": "stderr",
     "output_type": "stream",
     "text": [
      "/Users/kanavbansal/Developer/.env_jupyter/lib/python3.9/site-packages/urllib3/__init__.py:35: NotOpenSSLWarning: urllib3 v2 only supports OpenSSL 1.1.1+, currently the 'ssl' module is compiled with 'LibreSSL 2.8.3'. See: https://github.com/urllib3/urllib3/issues/3020\n",
      "  warnings.warn(\n"
     ]
    }
   ],
   "source": [
    "from langchain_community.document_loaders import TextLoader\n",
    "\n",
    "loader = TextLoader(\"data/subtitles/Friends_2x01.srt\")\n",
    "\n",
    "data = loader.load()"
   ]
  },
  {
   "cell_type": "code",
   "execution_count": 3,
   "id": "31a40cfe-7483-42cb-b29f-b9216fbddc34",
   "metadata": {},
   "outputs": [
    {
     "name": "stdout",
     "output_type": "stream",
     "text": [
      "Type of Data Variable:  <class 'list'>\n",
      "\n",
      "Number of Documents:  1\n",
      "\n",
      "Type of each datapoints: <class 'langchain_core.documents.base.Document'>\n",
      "\n",
      "Metadata:  {'source': 'data/subtitles/Friends_2x01.srt'}\n",
      "\n",
      "Page Content: 1\n",
      "00:00:01,435 --> 00:00:04,082\n",
      "This is pretty much\n",
      "what's happened so far.\n",
      "\n",
      "2\n",
      "00:00:04,395 --> 00:00:07,179\n",
      "Ross was in love\n",
      "with Rachel since forever.\n",
      "\n",
      "3\n",
      "00:00:07,423 --> 00:00:10,437\n",
      "Every time he \n"
     ]
    }
   ],
   "source": [
    "print(\"Type of Data Variable: \", type(data))\n",
    "print()\n",
    "print(\"Number of Documents: \", len(data))\n",
    "print()\n",
    "print(\"Type of each datapoints:\", type(data[0]))\n",
    "print()\n",
    "print(\"Metadata: \", data[0].metadata)\n",
    "print()\n",
    "print(\"Page Content:\", data[0].page_content[:200])"
   ]
  },
  {
   "cell_type": "markdown",
   "id": "8ef1d25e-7289-4462-b86d-9eac34e3149a",
   "metadata": {},
   "source": [
    "## **Loading all .srt Files**"
   ]
  },
  {
   "cell_type": "code",
   "execution_count": 4,
   "id": "ab2bc2fe-e7e6-43d0-a89a-81453086cc0b",
   "metadata": {},
   "outputs": [
    {
     "name": "stderr",
     "output_type": "stream",
     "text": [
      "100%|█████████████████████████████████████████| 10/10 [00:00<00:00, 5149.54it/s]\n"
     ]
    }
   ],
   "source": [
    "from langchain_community.document_loaders import DirectoryLoader\n",
    "\n",
    "loader = DirectoryLoader('data/subtitles', glob=\"*.srt\", show_progress=True, loader_cls=TextLoader)\n",
    "\n",
    "data = loader.load()"
   ]
  },
  {
   "cell_type": "code",
   "execution_count": 5,
   "id": "56dd545b-416c-4815-801a-af2d2cef0a91",
   "metadata": {},
   "outputs": [
    {
     "name": "stdout",
     "output_type": "stream",
     "text": [
      "Type of Data Variable:  <class 'list'>\n",
      "Number of Documents: 10\n"
     ]
    }
   ],
   "source": [
    "print(\"Type of Data Variable: \", type(data))\n",
    "\n",
    "print(\"Number of Documents:\", len(data))"
   ]
  },
  {
   "cell_type": "markdown",
   "id": "85b01f3f-e262-4929-bd03-66df1828530e",
   "metadata": {},
   "source": [
    "## **Load .csv File**"
   ]
  },
  {
   "cell_type": "code",
   "execution_count": 6,
   "id": "26e21644-9c2f-428f-838e-74f82f8aa29b",
   "metadata": {},
   "outputs": [],
   "source": [
    "from langchain_community.document_loaders.csv_loader import CSVLoader\n",
    "\n",
    "loader = CSVLoader(file_path='./data/csv_data/movies_data.csv')\n",
    "\n",
    "data = loader.load()"
   ]
  },
  {
   "cell_type": "code",
   "execution_count": 7,
   "id": "a8e7e845-ad04-4dfb-915b-171fd96e98a8",
   "metadata": {},
   "outputs": [
    {
     "name": "stdout",
     "output_type": "stream",
     "text": [
      "Type of loaded data: <class 'list'>\n",
      "Number of datapoints: 436\n",
      "Type of each datapoints: <class 'langchain_core.documents.base.Document'>\n"
     ]
    }
   ],
   "source": [
    "print(\"Type of loaded data:\", type(data))\n",
    "\n",
    "print(\"Number of datapoints:\", len(data))\n",
    "\n",
    "print(\"Type of each datapoints:\", type(data[0]))"
   ]
  },
  {
   "cell_type": "code",
   "execution_count": 8,
   "id": "b16f8f98-ac57-4a49-ba6b-308c2a5b117e",
   "metadata": {},
   "outputs": [
    {
     "data": {
      "text/plain": [
       "[Document(metadata={'source': './data/csv_data/movies_data.csv', 'row': 0}, page_content=\"movieId: 1\\ntitle: Toy Story (1995)\\ngenres: ['Adventure', 'Animation', 'Children', 'Comedy', 'Fantasy']\"),\n",
       " Document(metadata={'source': './data/csv_data/movies_data.csv', 'row': 1}, page_content=\"movieId: 2\\ntitle: Jumanji (1995)\\ngenres: ['Adventure', 'Children', 'Fantasy']\"),\n",
       " Document(metadata={'source': './data/csv_data/movies_data.csv', 'row': 2}, page_content=\"movieId: 3\\ntitle: Grumpier Old Men (1995)\\ngenres: ['Comedy', 'Romance']\"),\n",
       " Document(metadata={'source': './data/csv_data/movies_data.csv', 'row': 3}, page_content=\"movieId: 6\\ntitle: Heat (1995)\\ngenres: ['Action', 'Crime', 'Thriller']\"),\n",
       " Document(metadata={'source': './data/csv_data/movies_data.csv', 'row': 4}, page_content=\"movieId: 7\\ntitle: Sabrina (1995)\\ngenres: ['Comedy', 'Romance']\")]"
      ]
     },
     "execution_count": 8,
     "metadata": {},
     "output_type": "execute_result"
    }
   ],
   "source": [
    "data[:5]"
   ]
  },
  {
   "cell_type": "code",
   "execution_count": 9,
   "id": "82f13499-a82d-48e4-bdb2-c0af80d763f1",
   "metadata": {},
   "outputs": [
    {
     "name": "stdout",
     "output_type": "stream",
     "text": [
      "movieId: 1\n",
      "title: Toy Story (1995)\n",
      "genres: ['Adventure', 'Animation', 'Children', 'Comedy', 'Fantasy']\n"
     ]
    }
   ],
   "source": [
    "print(data[0].page_content)"
   ]
  }
 ],
 "metadata": {
  "kernelspec": {
   "display_name": "Python 3 (ipykernel)",
   "language": "python",
   "name": "python3"
  },
  "language_info": {
   "codemirror_mode": {
    "name": "ipython",
    "version": 3
   },
   "file_extension": ".py",
   "mimetype": "text/x-python",
   "name": "python",
   "nbconvert_exporter": "python",
   "pygments_lexer": "ipython3",
   "version": "3.9.6"
  }
 },
 "nbformat": 4,
 "nbformat_minor": 5
}
