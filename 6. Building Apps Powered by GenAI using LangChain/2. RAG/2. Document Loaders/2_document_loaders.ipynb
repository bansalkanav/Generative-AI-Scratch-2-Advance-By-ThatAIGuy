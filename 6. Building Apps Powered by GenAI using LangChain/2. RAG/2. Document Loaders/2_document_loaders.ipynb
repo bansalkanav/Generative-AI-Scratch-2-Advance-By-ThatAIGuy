{
 "cells": [
  {
   "cell_type": "markdown",
   "id": "c57c6a13-0d30-47fc-9472-26a69e6b4d7f",
   "metadata": {},
   "source": [
    "# **Document Loaders**\n",
    "Use document loaders to load data from a source as `Document`.\n",
    "\n",
    "Document loaders provide a \"load\" method for loading data as documents from a configured source. They optionally implement a \"lazy load\" as well for lazily loading data into memory.\n",
    "\n",
    "1. **Text Loaders**\n",
    "```python\n",
    "from langchain_community.document_loaders import TextLoader\n",
    "loader = TextLoader(\"./index.md\")\n",
    "loader.load()\n",
    "```\n",
    "\n",
    "2. **CSV**\n",
    "```python\n",
    "from langchain_community.document_loaders.csv_loader import CSVLoader\n",
    "loader = CSVLoader(file_path='./example_data/mlb_teams_2012.csv')\n",
    "data = loader.load()\n",
    "```\n",
    "3. **HTML**\n",
    "```python\n",
    "from langchain_community.document_loaders import UnstructuredHTMLLoader\n",
    "loader = UnstructuredHTMLLoader(\"example_data/fake-content.html\")\n",
    "data = loader.load()\n",
    "```\n",
    "4. **Web Base Loader**\n",
    "```python\n",
    "# !pip install beautifulsoup4\n",
    "from langchain_community.document_loaders import WebBaseLoader\n",
    "loader = WebBaseLoader(\"https://docs.smith.langchain.com/user_guide\")\n",
    "data = loader.load()\n",
    "```\n",
    "5. **JSON**  \n",
    "[Click Here](https://python.langchain.com/docs/modules/data_connection/document_loaders/json) for detailed docs.  \n",
    "Suppose we are interested in extracting the values under the `content` field within the `messages` key of the JSON data. This can easily be done through the JSONLoader as shown below.\n",
    "```python\n",
    "#!pip install jq\n",
    "from langchain_community.document_loaders import JSONLoader\n",
    "loader = JSONLoader(\n",
    "    file_path='./example_data/facebook_chat.json',\n",
    "    jq_schema='.messages[].content',\n",
    "    text_content=False)\n",
    "\n",
    "data = loader.load()\n",
    "```\n",
    "\n",
    "6. **PDF**  \n",
    "[Click here](https://python.langchain.com/docs/modules/data_connection/document_loaders/pdf) for detailed docs.  \n",
    "Make sure to install: `pip install pypdf`\n",
    "\n",
    "```python\n",
    "from langchain_community.document_loaders import PyPDFLoader\n",
    "\n",
    "loader = PyPDFLoader(\"example_data/layout-parser-paper.pdf\")\n",
    "pages = loader.load_and_split()\n",
    "```\n",
    "\n",
    "7. **File Directory**  \n",
    "[Click Here](https://python.langchain.com/docs/modules/data_connection/document_loaders/file_directory) for detailed docs.\n",
    "Under the hood it uses UnstructuredLoader.  \n",
    "Make sure to install: `pip install \"unstructured[all-docs]\"`  \n",
    "This covers how to load all documents in a directory. We can use the `glob` parameter to control which files to load.\n",
    "\n",
    "```python\n",
    "from langchain_community.document_loaders import DirectoryLoader\n",
    "from langchain_community.document_loaders import TextLoader\n",
    "\n",
    "loader = DirectoryLoader('../', glob=\"**/*.md\", show_progress=True, loader_cls=TextLoader)\n",
    "docs = loader.load()\n",
    "```"
   ]
  },
  {
   "cell_type": "markdown",
   "id": "ffcef185-5b87-4a93-a1b3-8e67a2be39be",
   "metadata": {},
   "source": [
    "## **Loading one .srt File**"
   ]
  },
  {
   "cell_type": "code",
   "execution_count": 1,
   "id": "1232873c-aafe-4629-8223-b8ac24aab1d0",
   "metadata": {},
   "outputs": [],
   "source": [
    "from langchain_community.document_loaders import TextLoader\n",
    "\n",
    "loader = TextLoader(\"data/subtitles_data/Friends - [2x01] - The One with Ross's New Girlfriend.srt\")\n",
    "\n",
    "doc = loader.load()"
   ]
  },
  {
   "cell_type": "code",
   "execution_count": 2,
   "id": "31a40cfe-7483-42cb-b29f-b9216fbddc34",
   "metadata": {},
   "outputs": [
    {
     "data": {
      "text/plain": [
       "[Document(page_content='1\\n00:00:01,435 --> 00:00:04,082\\nThis is pretty much\\nwhat\\'s happened so far.\\n\\n2\\n00:00:04,395 --> 00:00:07,179\\nRoss was in love\\nwith Rachel since forever.\\n\\n3\\n00:00:07,423 --> 00:00:10,437\\nEvery time he tried to tell her,\\nsomething got in the way...\\n\\n4\\n00:00:10,651 --> 00:00:12,529\\n...Iike cats, Italian guys.\\n\\n5\\n00:00:12,736 --> 00:00:15,922\\nAnd finally, Chandler was,\\nlike, \"Forget about her.\"\\n\\n6\\n00:00:16,166 --> 00:00:20,762\\nWhen Ross was in China, Chandler\\nlet it slip that Ross loved Rachel.\\n\\n7\\n00:00:20,975 --> 00:00:22,818\\nShe was, like, \"Oh, my God!\"\\n\\n8\\n00:00:23,061 --> 00:00:25,845\\nSo she went to the airport to meet him.\\n\\n9\\n00:00:26,089 --> 00:00:29,710\\nShe didn \\'t know Ross was getting\\noff the plane with another woman.\\n\\n10\\n00:00:31,165 --> 00:00:33,651\\nThat\\'s pretty much everything\\nyou need to know.\\n\\n11\\n00:00:33,922 --> 00:00:36,097\\nBut enough about us.\\nHow have you been?\\n\\n12\\n00:00:37,991 --> 00:00:40,126\\nThe One With Ross\\' New Girlfriend\\n\\n13\\n00:01:21,226 --> 00:01:24,331\\nFlight number 457\\nfrom Beijing now arriving.\\n\\n14\\n00:01:30,746 --> 00:01:31,804\\nOh, my God!\\n\\n15\\n00:01:32,555 --> 00:01:33,783\\nOh, my God!\\n\\n16\\n00:01:34,233 --> 00:01:35,064\\nExcuse me.\\n\\n17\\n00:01:35,273 --> 00:01:37,877\\nMove, move, move!\\nEmergency, please!\\n\\n18\\n00:01:38,086 --> 00:01:39,523\\nExcuse me, excuse me.\\n\\n19\\n00:01:48,378 --> 00:01:49,815\\nThere you are!\\n\\n20\\n00:01:52,935 --> 00:01:55,206\\nSo, so....\\n\\n21\\n00:01:55,451 --> 00:01:58,226\\nHow was China? You!\\n\\n22\\n00:01:58,968 --> 00:02:00,942\\nIt was great.\\n\\n23\\n00:02:01,148 --> 00:02:02,115\\nWhat happened?\\n\\n24\\n00:02:02,322 --> 00:02:03,815\\n-You\\'re bleeding.\\n-I am?\\n\\n25\\n00:02:04,064 --> 00:02:05,934\\nOh, look at that! Yes, I am.\\n\\n26\\n00:02:06,143 --> 00:02:08,618\\nEnough about me,\\nMr. Back From The Orient!\\n\\n27\\n00:02:08,857 --> 00:02:12,602\\nCome on, I wanna hear everything!\\nEverything!\\n\\n28\\n00:02:14,121 --> 00:02:16,654\\nWell, where do I start?\\n\\n29\\n00:02:16,870 --> 00:02:19,815\\nThis is Julie.\\nJulie, this is Rachel.\\n\\n30\\n00:02:25,015 --> 00:02:25,881\\nThese are....\\n\\n31\\n00:02:26,087 --> 00:02:27,180\\nThese are...\\n\\n32\\n00:02:27,393 --> 00:02:28,555\\n...aren\\'t for you.\\n\\n33\\n00:02:30,278 --> 00:02:31,749\\nThese are for you.\\n\\n34\\n00:02:32,154 --> 00:02:34,894\\nWelcome to our country.\\n\\n35\\n00:02:36,948 --> 00:02:40,259\\nThank you. I\\'m from New York.\\n\\n36\\n00:02:42,678 --> 00:02:45,315\\nNo problem. We\\'ll use them\\nto stop the bleeding.\\n\\n37\\n00:02:48,578 --> 00:02:49,409\\nBaggage claim?\\n\\n38\\n00:02:57,327 --> 00:03:01,029\\nI\\'m telling U.She went to the airport, \\nand she\\'s gonna go for it with Ross.\\n\\n39\\n00:03:01,275 --> 00:03:04,839\\nOh, my God! This is huge!\\n\\n40\\n00:03:05,557 --> 00:03:07,718\\nThis is bigger than huge.\\nThis is....\\n\\n41\\n00:03:08,032 --> 00:03:10,227\\nAll right, what\\'s bigger than huge?\\n\\n42\\n00:03:12,149 --> 00:03:13,044\\nThis?\\n\\n43\\n00:03:14,690 --> 00:03:16,180\\nGuys, you got new haircuts!\\n\\n44\\n00:03:16,397 --> 00:03:19,494\\nYes, we did.\\nThanks to Vidal Buffay.\\n\\n45\\n00:03:20,543 --> 00:03:24,245\\nBecause, you know, \"lf you don\\'t\\nlook good, we don\\'t look good.\"\\n\\n46\\n00:03:24,456 --> 00:03:26,219\\nI love that voice!\\n\\n47\\n00:03:28,154 --> 00:03:31,558\\nAnd the winner is Eva Godna!\\n\\n48\\n00:03:34,819 --> 00:03:37,048\\nAirport. Airport. Ross.\\n\\n49\\n00:03:38,011 --> 00:03:38,653\\nNot alone.\\n\\n50\\n00:03:38,973 --> 00:03:39,897\\nJulie.\\n\\n51\\n00:03:40,990 --> 00:03:42,281\\nArm around her!\\n\\n52\\n00:03:43,408 --> 00:03:46,230\\nCramp! Cramp! Cramp!\\n\\n53\\n00:03:46,471 --> 00:03:49,020\\nI think she\\'s trying\\nto tell us something.\\n\\n54\\n00:03:49,235 --> 00:03:51,216\\nQuick, get the verbs.\\n\\n55\\n00:03:51,935 --> 00:03:53,621\\nYou! You!\\n\\n56\\n00:03:53,900 --> 00:03:55,856\\nYou said he liked me!\\n\\n57\\n00:03:56,099 --> 00:03:57,058\\nYou!\\n\\n58\\n00:03:57,265 --> 00:03:59,685\\nYou slowpokes!\\n\\n59\\n00:03:59,895 --> 00:04:02,513\\nThat\\'s all right.\\nWe got the bags.\\n\\n60\\n00:04:06,091 --> 00:04:07,843\\nThis is my sister, Monica.\\n\\n61\\n00:04:08,523 --> 00:04:09,845\\nThis is Chandler.\\n\\n62\\n00:04:10,057 --> 00:04:11,106\\nPhoebe, hi.\\n\\n63\\n00:04:11,387 --> 00:04:12,400\\nJoey.\\n\\n64\\n00:04:13,852 --> 00:04:15,901\\nEveryone, this is Julie.\\n\\n65\\n00:04:16,116 --> 00:04:17,004\\nJulie.\\n\\n66\\n00:04:23,378 --> 00:04:25,233\\nBut I\\'m not here,\\nyou haven\\'t met me.\\n\\n67\\n00:04:25,443 --> 00:04:29,365\\nI\\'ll make a better impression when\\nI don\\'t have 20 hours of plane on me.\\n\\n68\\n00:04:29,607 --> 00:04:31,756\\n-And bus.\\n-Oh, my God!\\n\\n69\\n00:04:32,005 --> 00:04:34,086\\n-With the screaming guy\\n-And the spitting.\\n\\n70\\n00:04:34,370 --> 00:04:35,884\\nYou gotta hear this story.\\n\\n71\\n00:04:36,102 --> 00:04:38,490\\nWe\\'re on this bus\\nthat\\'s 200 years old.\\n\\n72\\n00:04:38,697 --> 00:04:39,985\\nTwo hundred, at least.\\n\\n73\\n00:04:40,200 --> 00:04:42,055\\nAnd the chicken poops in her lap!\\n\\n74\\n00:04:49,227 --> 00:04:51,013\\nI\\'m so sorry.\\n\\n75\\n00:04:51,258 --> 00:04:53,339\\nI just gave away the ending, didn\\'t l?\\n\\n76\\n00:04:53,557 --> 00:04:55,878\\nI just heard this story in the cab...\\n\\n77\\n00:04:56,156 --> 00:04:59,804\\n...and it is all I can think about.\\n\\n78\\n00:05:02,184 --> 00:05:03,639\\nThis is amazing.\\n\\n79\\n00:05:05,146 --> 00:05:06,295\\nHow did this happen?\\n\\n80\\n00:05:06,514 --> 00:05:08,130\\nWe were in grad school together.\\n\\n81\\n00:05:08,379 --> 00:05:11,631\\nWe haven\\'t seen each other since then.\\nI land in China...\\n\\n82\\n00:05:11,875 --> 00:05:13,730\\n...guess who\\'s in charge of the dig?\\n\\n83\\n00:05:13,975 --> 00:05:15,058\\nJulie!\\n\\n84\\n00:05:16,737 --> 00:05:18,127\\nIsn\\'t that great?\\n\\n85\\n00:05:18,737 --> 00:05:23,282\\nIsn\\'t that just kick-you-in-the-crotch,\\nspit-on-your-neck fantastic?\\n\\n86\\n00:05:25,398 --> 00:05:26,375\\nIt\\'s an expression.\\n\\n87\\n00:05:28,332 --> 00:05:30,549\\nWe just wanted to say a quick hi.\\n\\n88\\n00:05:30,794 --> 00:05:33,445\\n-Then we\\'ll see the baby.\\n-Then get some sleep.\\n\\n89\\n00:05:33,693 --> 00:05:35,618\\nIt\\'s 6:00 tomorrow night, our time.\\n\\n90\\n00:05:35,827 --> 00:05:39,180\\nDon\\'t tell us what\\'s gonna happen.\\nI like being surprised.\\n\\n91\\n00:05:44,050 --> 00:05:45,301\\nBye!\\n\\n92\\n00:05:56,690 --> 00:05:58,938\\n-Can I get some coffee?\\n-Sure.\\n\\n93\\n00:05:59,686 --> 00:06:01,413\\n-Did you talk to him yet?\\n-No.\\n\\n94\\n00:06:01,673 --> 00:06:03,020\\nThen, no.\\n\\n95\\n00:06:15,198 --> 00:06:17,438\\nWhat the hell happened to you in China?\\n\\n96\\n00:06:17,918 --> 00:06:20,693\\nWhen last we left you,\\nyou were in love with, you know.\\n\\n97\\n00:06:21,502 --> 00:06:22,647\\nI know I was.\\n\\n98\\n00:06:22,897 --> 00:06:25,863\\nBut there was always this voice\\ninside that kept saying:\\n\\n99\\n00:06:26,146 --> 00:06:30,277\\n\"It\\'s never gonna happen. Move on.\"\\nYou know whose voice that was?\\n\\n100\\n00:06:31,025 --> 00:06:32,100\\nGod?\\n\\n101\\n00:06:33,459 --> 00:06:34,974\\nIt was you, pal.\\n\\n102\\n00:06:35,906 --> 00:06:37,720\\nMaybe it was God doing me.\\n\\n103\\n00:06:43,811 --> 00:06:47,523\\nYou were right. She looks at me\\nand sees a friend. That\\'s all.\\n\\n104\\n00:06:48,337 --> 00:06:49,621\\nAnd then I met Julie...\\n\\n105\\n00:06:50,601 --> 00:06:52,485\\n...and we\\'re having a great time.\\n\\n106\\n00:06:52,700 --> 00:06:55,675\\nI never would have gone for it,\\nif it hadn\\'t been for you.\\n\\n107\\n00:06:58,425 --> 00:07:00,843\\nWell, you owe me one, big guy.\\n\\n108\\n00:07:01,489 --> 00:07:02,568\\nYour lemonade.\\n\\n109\\n00:07:02,820 --> 00:07:03,830\\nI didn\\'t order it.\\n\\n110\\n00:07:05,650 --> 00:07:08,659\\nThen go take that back.\\nThey\\'ll charge you for that.\\n\\n111\\n00:07:09,011 --> 00:07:11,429\\nGo, go, go! Come on, come on!\\n\\n112\\n00:07:13,772 --> 00:07:15,623\\nSo what did you find out?\\n\\n113\\n00:07:16,468 --> 00:07:17,788\\nHe said....\\n\\n114\\n00:07:18,067 --> 00:07:19,545\\nHe said....\\n\\n115\\n00:07:22,759 --> 00:07:24,373\\nThey\\'re having a great time.\\n\\n116\\n00:07:25,224 --> 00:07:26,702\\nI\\'m sorry.\\n\\n117\\n00:07:27,752 --> 00:07:30,396\\nBut the silver lining,\\nif you wanna see it...\\n\\n118\\n00:07:30,717 --> 00:07:33,466\\n...is that he made this decision\\nall by himself...\\n\\n119\\n00:07:34,043 --> 00:07:37,052\\n...without any outside help whatsoever.\\n\\n120\\n00:07:38,089 --> 00:07:40,482\\nHow is that a silver lining?\\n\\n121\\n00:07:40,701 --> 00:07:43,440\\nYou have to really wanna see it.\\n\\n122\\n00:07:49,032 --> 00:07:52,088\\nIronically, these guys\\nwere picked last in gym.\\n\\n123\\n00:07:52,913 --> 00:07:54,061\\nHey, Pheebs.\\n\\n124\\n00:07:54,900 --> 00:07:56,993\\nYou know what I\\'m thinking?\\n\\n125\\n00:08:01,192 --> 00:08:03,132\\nHow...\\n\\n126\\n00:08:03,388 --> 00:08:06,446\\n...it\\'s been so long\\nsince you\\'ve had sex...\\n\\n127\\n00:08:06,783 --> 00:08:09,567\\n...you\\'re wondering\\nif they\\'ve changed it?\\n\\n128\\n00:08:13,197 --> 00:08:17,030\\nNo. Although now\\nthat\\'s what I\\'m thinking.\\n\\n129\\n00:08:18,984 --> 00:08:20,832\\nSo what were you thinking?\\n\\n130\\n00:08:20,721 --> 00:08:25,570\\nYou gave the guys great haircuts.\\nI thought you\\'d like to do mine.\\n\\n131\\n00:08:25,794 --> 00:08:26,761\\nNo.\\n\\n132\\n00:08:27,573 --> 00:08:28,500\\nWhy not?\\n\\n133\\n00:08:28,792 --> 00:08:30,862\\nBecause I\\'m just....\\n\\n134\\n00:08:31,154 --> 00:08:34,196\\nI\\'m incredibly anal and\\nan unbelievable control freak.\\n\\n135\\n00:08:34,241 --> 00:08:35,336\\nNo, you\\'re not.\\n\\n136\\n00:08:36,263 --> 00:08:38,426\\nI know I\\'m not, but you are.\\n\\n137\\n00:08:39,155 --> 00:08:42,140\\nI was trying to spare your feelings.\\n\\n138\\n00:08:44,325 --> 00:08:45,269\\nHold on.\\n\\n139\\n00:08:45,645 --> 00:08:47,466\\nRoss, Julie for you.\\n\\n140\\n00:09:18,317 --> 00:09:19,712\\nAnybody know a good tailor?\\n\\n141\\n00:09:19,934 --> 00:09:21,399\\nYou need clothes altered?\\n\\n142\\n00:09:21,651 --> 00:09:25,039\\nNo, I\\'m just looking for a man\\nto draw on me with chalk.\\n\\n143\\n00:09:25,950 --> 00:09:29,091\\nGo see Frankie. My family\\'s\\nbeen going to him forever.\\n\\n144\\n00:09:29,389 --> 00:09:31,231\\nHe did my first suit when I was 1 5.\\n\\n145\\n00:09:31,587 --> 00:09:33,910\\nNo, wait, 1 6.\\n\\n146\\n00:09:34,201 --> 00:09:37,894\\nNo, excuse me, 1 5.\\n\\n147\\n00:09:39,118 --> 00:09:41,334\\nAll right, when was 1 990?\\n\\n148\\n00:09:43,897 --> 00:09:46,806\\nYou have to stop the Q-Tip\\nwhen there\\'s resistance!\\n\\n149\\n00:09:55,687 --> 00:09:57,547\\nSweetheart, I\\'ll see you later.\\n\\n150\\n00:09:57,770 --> 00:09:58,967\\nOkay, bye.\\n\\n151\\n00:10:01,556 --> 00:10:03,827\\nThat is so sweet.\\n\\n152\\n00:10:07,707 --> 00:10:09,744\\nOkay. No, you hang up.\\n\\n153\\n00:10:09,967 --> 00:10:11,232\\nNo, you\\n\\n154\\n00:10:13,373 --> 00:10:16,029\\nOne, two, three.\\n\\n155\\n00:10:18,155 --> 00:10:19,428\\nYou didn\\'t hang up either.\\n\\n156\\n00:10:19,730 --> 00:10:21,639\\nShe didn\\'t hang up.\\n\\n157\\n00:10:27,391 --> 00:10:28,629\\nNo, you hang up.\\n\\n158\\n00:10:28,897 --> 00:10:31,223\\nYou. You.\\n\\n159\\n00:10:39,466 --> 00:10:41,888\\nSorry, I thought\\nyou were talking to me.\\n\\n160\\n00:10:44,295 --> 00:10:45,378\\nRachel.\\n\\n161\\n00:10:46,190 --> 00:10:48,174\\nI\\'ll just call her back.\\n\\n162\\n00:10:49,903 --> 00:10:52,370\\nHi, sweetie. I\\'m sorry.\\nWe got disconnected.\\n\\n163\\n00:10:52,650 --> 00:10:53,292\\nNo, you hang up.\\n\\n164\\n00:10:53,972 --> 00:10:55,718\\nHow did this happen to me?\\n\\n165\\n00:10:55,928 --> 00:10:59,335\\nA week ago, two weeks ago, I was fine.\\n\\n166\\n00:10:59,643 --> 00:11:01,840\\nRoss was just Ross. Just this guy.\\n\\n167\\n00:11:02,150 --> 00:11:05,889\\nNow all of a sudden, he\\'s Ross...\\n\\n168\\n00:11:06,720 --> 00:11:10,169\\n...this really great guy\\nthat I can\\'t have.\\n\\n169\\n00:11:10,562 --> 00:11:12,762\\nSweetie, I wanted you to have him too.\\n\\n170\\n00:11:13,411 --> 00:11:14,328\\nI know you did.\\n\\n171\\n00:11:18,837 --> 00:11:21,510\\nI\\'m just gonna deal with it.\\n\\n172\\n00:11:24,961 --> 00:11:27,612\\nI gotta get out of here!\\n\\n173\\n00:11:29,480 --> 00:11:33,102\\nI don\\'t care what you guys say,\\nsomething\\'s bothering her.\\n\\n174\\n00:11:38,701 --> 00:11:41,526\\nYou know, I think I was 1 6.\\n\\n175\\n00:11:47,629 --> 00:11:50,351\\nPlease, just a little bit off the back.\\n\\n176\\n00:11:50,557 --> 00:11:51,865\\nI\\'m still on \"no.\"\\n\\n177\\n00:11:54,244 --> 00:11:55,156\\nMorning.\\n\\n178\\n00:11:56,354 --> 00:11:58,255\\nCould you close your eyes for a sec?\\n\\n179\\n00:11:58,489 --> 00:12:01,603\\nNo, no, no. I\\'m not\\nfalling for that again.\\n\\n180\\n00:12:03,886 --> 00:12:04,698\\nWhat\\'s going on?\\n\\n181\\n00:12:04,939 --> 00:12:07,130\\nI sort of did a stupid thing last night.\\n\\n182\\n00:12:07,341 --> 00:12:09,108\\nWhat stupid thing did you do?\\n\\n183\\n00:12:16,057 --> 00:12:17,993\\nWhy don\\'t you just go get dressed...\\n\\n184\\n00:12:18,557 --> 00:12:21,603\\n...then you\\'ll be on your way.\\nBye-bye.\\n\\n185\\n00:12:23,802 --> 00:12:25,426\\nHow did this happen?\\n\\n186\\n00:12:25,777 --> 00:12:27,902\\nI kind of ran into him last night.\\n\\n187\\n00:12:28,120 --> 00:12:29,413\\n-Where?\\n-At his apartment.\\n\\n188\\n00:12:29,627 --> 00:12:31,148\\nIs this juice?\\n\\n189\\n00:12:31,835 --> 00:12:35,535\\nAnd the fact that you dumped him\\nbecause he hit on Phoebe?\\n\\n190\\n00:12:35,817 --> 00:12:38,946\\nOh, God, I know.\\nI\\'m pathetic, I\\'m a loser.\\n\\n191\\n00:12:39,731 --> 00:12:42,289\\nHoney, you\\'re not pathetic.\\nYou\\'re just sad.\\n\\n192\\n00:12:42,508 --> 00:12:44,839\\nPeople do stupid things\\nwhen they\\'re upset.\\n\\n193\\n00:12:45,052 --> 00:12:48,148\\nMy God, if I had a nickel\\nfor every guy I wish I hadn\\'t\\n\\n194\\n00:12:52,349 --> 00:12:54,838\\nBut this is about your horrible mistake.\\n\\n195\\n00:12:59,813 --> 00:13:00,637\\nSorry we\\'re late.\\n\\n196\\n00:13:00,947 --> 00:13:02,203\\nWe were....\\n\\n197\\n00:13:02,422 --> 00:13:04,410\\nWell, there was touching.\\n\\n198\\n00:13:10,285 --> 00:13:12,252\\nHey, Ross!\\n\\n199\\n00:13:12,862 --> 00:13:14,258\\nWhat a....\\n\\n200\\n00:13:15,806 --> 00:13:17,773\\nWhat are you doing here?\\n\\n201\\n00:13:17,981 --> 00:13:18,940\\nI do Raquel!\\n\\n202\\n00:13:26,247 --> 00:13:27,974\\nSo he\\'s back?\\n\\n203\\n00:13:28,257 --> 00:13:30,746\\nYeah, he\\'s back.\\nIs that a problem?\\n\\n204\\n00:13:31,033 --> 00:13:32,429\\nNo, not a problem.\\n\\n205\\n00:13:33,076 --> 00:13:34,871\\nGood. Glad it\\'s not a problem.\\n\\n206\\n00:13:35,686 --> 00:13:38,519\\nYou\\'re gonna have to not touch my ass.\\n\\n207\\n00:13:42,980 --> 00:13:46,076\\nDespite the yummy bagels\\nand palpable tension...\\n\\n208\\n00:13:46,627 --> 00:13:48,148\\n... my pants need to be altered.\\n\\n209\\n00:13:48,402 --> 00:13:51,806\\nWhen you see Frankie,\\ntell him Joey Tribbiani says hello.\\n\\n210\\n00:13:52,184 --> 00:13:53,771\\nHe\\'ll know what it means.\\n\\n211\\n00:13:56,166 --> 00:13:57,927\\nYou sure he\\'ll crack that code?\\n\\n212\\n00:14:00,183 --> 00:14:04,215\\nIt\\'s funny. The last time Paolo\\nwas here, my hair was so much cuter.\\n\\n213\\n00:14:04,900 --> 00:14:06,330\\nAll right.\\n\\n214\\n00:14:07,343 --> 00:14:11,716\\nBut you have to promise that you\\nwill not be all controlly and bossy...\\n\\n215\\n00:14:11,927 --> 00:14:13,915\\n...and all Monica about it.\\n\\n216\\n00:14:15,409 --> 00:14:16,428\\nI promise.\\n\\n217\\n00:14:16,680 --> 00:14:18,201\\nAll right, let\\'s see.\\n\\n218\\n00:14:18,454 --> 00:14:22,690\\nNow, some of you are gonna get cut\\nand some of you aren\\'t.\\n\\n219\\n00:14:23,874 --> 00:14:26,031\\nBut I promise, none of you\\nwill feel a thing.\\n\\n220\\n00:14:38,457 --> 00:14:42,268\\n-That\\'s it. I quit.\\n-What? I didn\\'t say anything!\\n\\n221\\n00:14:42,531 --> 00:14:46,405\\nBut this isn\\'t the face of\\na person who trusts a person.\\n\\n222\\n00:14:46,679 --> 00:14:49,934\\nThis is the face of\\na person who, you know...\\n\\n223\\n00:14:50,274 --> 00:14:52,341\\n...doesn\\'t trust a person.\\n\\n224\\n00:14:53,217 --> 00:14:54,999\\nI\\'m sorry. I\\'m sorry.\\n\\n225\\n00:14:55,811 --> 00:14:58,833\\nIt\\'s just a little shorter\\nthan what we had discussed.\\n\\n226\\n00:14:59,068 --> 00:15:02,531\\nWould you relax?\\nI know what I am doing.\\n\\n227\\n00:15:02,746 --> 00:15:05,351\\nThis is how he wears it.\\n\\n228\\n00:15:07,389 --> 00:15:08,501\\nHow who wears it?\\n\\n229\\n00:15:08,715 --> 00:15:09,896\\nDemi Moore.\\n\\n230\\n00:15:11,165 --> 00:15:12,944\\nDemi Moore is not a \"he.\"\\n\\n231\\n00:15:13,154 --> 00:15:15,792\\nWell, he was a \"he\"\\nin Arthur and in 10.\\n\\n232\\n00:15:17,677 --> 00:15:19,362\\nThat\\'s Dudley Moore!\\n\\n233\\n00:15:19,684 --> 00:15:22,697\\nI said I wanted it like Demi Moore!\\n\\n234\\n00:15:24,871 --> 00:15:26,025\\nOh, my God!\\n\\n235\\n00:15:27,140 --> 00:15:28,230\\nOh, God!\\n\\n236\\n00:15:29,787 --> 00:15:31,426\\nOh, my God! I\\'m sorry!\\n\\n237\\n00:15:31,665 --> 00:15:32,413\\nWhich one is Demi Moore?\\n\\n238\\n00:15:32,754 --> 00:15:38,093\\nShe\\'s the actress that was in\\nDisclosure, Indecent Proposal, Ghost!\\n\\n239\\n00:15:38,274 --> 00:15:39,631\\nShe\\'s got gorgeous hair.\\n\\n240\\n00:15:39,947 --> 00:15:41,507\\nI know!\\n\\n241\\n00:16:03,399 --> 00:16:05,137\\nHow long do you want the cuffs?\\n\\n242\\n00:16:05,509 --> 00:16:07,885\\nAt least as long as I have the pants.\\n\\n243\\n00:16:11,567 --> 00:16:13,024\\nI just got that.\\n\\n244\\n00:16:16,308 --> 00:16:18,536\\nNow we\\'ll do your inseam.\\n\\n245\\n00:16:32,556 --> 00:16:33,355\\nHow is she?\\n\\n246\\n00:16:34,745 --> 00:16:36,610\\nIt\\'s too soon to tell.\\n\\n247\\n00:16:37,872 --> 00:16:40,219\\nShe\\'s resting, which is a good sign.\\n\\n248\\n00:16:41,512 --> 00:16:42,409\\nHow\\'s the hair?\\n\\n249\\n00:16:42,929 --> 00:16:45,914\\nI\\'m not gonna lie to you.\\nIt doesn\\'t look good.\\n\\n250\\n00:16:56,263 --> 00:17:00,346\\nI put a clip on one side, which seems\\nto have stopped the curling.\\n\\n251\\n00:17:01,222 --> 00:17:02,341\\nCan we see her?\\n\\n252\\n00:17:02,919 --> 00:17:05,003\\nYour hair looks too good.\\nIt\\'d upset her.\\n\\n253\\n00:17:06,415 --> 00:17:07,669\\nRoss, you come on in.\\n\\n254\\n00:17:15,500 --> 00:17:16,960\\nWell, how you doing?\\n\\n255\\n00:17:17,165 --> 00:17:17,956\\nI\\'m okay.\\n\\n256\\n00:17:18,228 --> 00:17:19,188\\nThat bad, huh?\\n\\n257\\n00:17:20,793 --> 00:17:24,273\\nLook, I can sense when women\\nare depressed and vulnerable.\\n\\n258\\n00:17:24,518 --> 00:17:26,001\\nIt\\'s one of my gifts.\\n\\n259\\n00:17:31,342 --> 00:17:35,025\\nJoey, when I saw him\\nget off that plane with her...\\n\\n260\\n00:17:35,302 --> 00:17:38,159\\n...I really thought\\nI just hit rock bottom.\\n\\n261\\n00:17:38,665 --> 00:17:42,020\\nBut today, it\\'s like\\nthere\\'s rock bottom...\\n\\n262\\n00:17:42,290 --> 00:17:44,250\\n... 50 feet of crap...\\n\\n263\\n00:17:44,454 --> 00:17:45,847\\n...then me.\\n\\n264\\n00:17:47,183 --> 00:17:48,768\\nTell Ross how you feel.\\n\\n265\\n00:17:49,014 --> 00:17:52,062\\nCome on, how can I just tell him?\\nWhat about Julie?\\n\\n266\\n00:17:52,307 --> 00:17:55,231\\nWhat about her? They\\'ve only\\nbeen going out for two weeks.\\n\\n267\\n00:17:55,503 --> 00:17:58,586\\nRoss has been in love\\nwith you for 10 years.\\n\\n268\\n00:17:59,463 --> 00:18:01,921\\nI don\\'t know. I don\\'t know.\\n\\n269\\n00:18:02,258 --> 00:18:04,546\\nI\\'ve been with my share of women.\\n\\n270\\n00:18:05,221 --> 00:18:08,145\\nI\\'ve been with a lot\\nof people\\'s share of women.\\n\\n271\\n00:18:09,114 --> 00:18:10,802\\nBut the point is...\\n\\n272\\n00:18:11,045 --> 00:18:14,969\\n... I\\'ve never felt about anyone\\nthe way Ross felt about you.\\n\\n273\\n00:18:17,268 --> 00:18:18,559\\nReally?\\n\\n274\\n00:18:25,221 --> 00:18:26,909\\nYo, paisan!\\n\\n275\\n00:18:29,616 --> 00:18:31,599\\nCan I talk to you for a sec?\\n\\n276\\n00:18:35,073 --> 00:18:36,590\\nYour tailor...\\n\\n277\\n00:18:36,837 --> 00:18:39,160\\n...is a very bad man!\\n\\n278\\n00:18:41,264 --> 00:18:42,815\\nWhat are you talking about?\\n\\n279\\n00:18:43,028 --> 00:18:44,919\\nHey, what\\'s going on?\\n\\n280\\n00:18:49,816 --> 00:18:51,175\\nJoey\\'s tailor...\\n\\n281\\n00:18:55,008 --> 00:18:56,559\\n...took advantage of me.\\n\\n282\\n00:18:59,134 --> 00:19:02,251\\nNo way! I\\'ve been going\\nto the guy for 1 2 years.\\n\\n283\\n00:19:02,462 --> 00:19:04,479\\nHe said he was gonna do my inseam.\\n\\n284\\n00:19:04,726 --> 00:19:08,443\\nThen he ran his hand up my leg\\nand then there was definite\\n\\n285\\n00:19:08,652 --> 00:19:09,612\\nWhat?\\n\\n286\\n00:19:10,549 --> 00:19:12,169\\nCupping.\\n\\n287\\n00:19:15,143 --> 00:19:17,795\\nThat\\'s how they do pants!\\n\\n288\\n00:19:19,335 --> 00:19:21,849\\nFirst they go up one side,\\nthey move it over.\\n\\n289\\n00:19:22,132 --> 00:19:26,180\\nThen they go up the other side,\\nmove it back, then they do the rear.\\n\\n290\\n00:19:28,921 --> 00:19:32,004\\nRoss, tell him. Isn\\'t that\\nhow a tailor measures pants?\\n\\n291\\n00:19:32,248 --> 00:19:34,265\\nYes, yes, it is.\\nIn prison!\\n\\n292\\n00:19:41,434 --> 00:19:43,394\\nWhat\\'s the matter with you?\\n\\n293\\n00:19:43,630 --> 00:19:44,647\\nWhat?\\n\\n294\\n00:19:48,223 --> 00:19:49,082\\nThat\\'s not?\\n\\n295\\n00:19:55,445 --> 00:19:56,804\\nOh, my God!\\n\\n296\\n00:20:09,912 --> 00:20:12,546\\nEven Mary Tyler Moore\\nwould\\'ve been better.\\n\\n297\\n00:20:22,210 --> 00:20:23,028\\nI like it.\\n\\n298\\n00:20:24,058 --> 00:20:25,529\\nI do. I think it\\'s a 10!\\n\\n299\\n00:20:28,906 --> 00:20:30,049\\nThank you.\\n\\n300\\n00:20:30,290 --> 00:20:31,794\\nMy hair is very amused.\\n\\n301\\n00:20:32,007 --> 00:20:34,635\\nCome on, things could be worse.\\n\\n302\\n00:20:35,074 --> 00:20:38,199\\nYou could \"get caught between\\nthe moon and New York City.\\n\\n303\\n00:20:40,250 --> 00:20:42,024\\nI know it\\'s crazy, but it\\'s true.\"\\n\\n304\\n00:20:44,869 --> 00:20:46,340\\nThank you.\\n\\n305\\n00:20:46,550 --> 00:20:48,750\\nWell, I gotta go. Bye.\\n\\n306\\n00:20:48,992 --> 00:20:50,068\\nBye, Rach!\\n\\n307\\n00:20:50,311 --> 00:20:51,882\\nWait, are you leaving?\\n\\n308\\n00:20:52,092 --> 00:20:53,899\\nThat\\'s what I meant by \"bye.\"\\n\\n309\\n00:20:54,796 --> 00:20:56,828\\nCan I talk to you for a sec?\\n\\n310\\n00:21:00,698 --> 00:21:03,754\\nWhen the doctor does\\nthat hernia test....\\n\\n311\\n00:21:04,458 --> 00:21:05,996\\nThat\\'s okay.\\n\\n312\\n00:21:17,292 --> 00:21:18,141\\nWhat\\'s going on?\\n\\n313\\n00:21:20,045 --> 00:21:23,279\\nWell, okay, first of all...\\n\\n314\\n00:21:23,790 --> 00:21:26,427\\n... Paolo and I are not back together.\\n\\n315\\n00:21:26,707 --> 00:21:28,710\\nThat was a stupid thing I did.\\n\\n316\\n00:21:28,927 --> 00:21:31,800\\nIf I could go back in time\\nand do it again...\\n\\n317\\n00:21:32,240 --> 00:21:34,187\\n...well, I wouldn\\'t.\\n\\n318\\n00:21:37,181 --> 00:21:38,529\\nSecond of all....\\n\\n319\\n00:21:39,466 --> 00:21:40,350\\nWhat?\\n\\n320\\n00:21:43,443 --> 00:21:47,141\\nIs this one of those things\\nwhere you break up with a guy...\\n\\n321\\n00:21:47,419 --> 00:21:48,868\\n... I tell you what I think...\\n\\n322\\n00:21:49,080 --> 00:21:51,524\\n...and the next day\\nyou get back together with him...\\n\\n323\\n00:21:51,731 --> 00:21:54,006\\n...and I look like\\na complete idiot?\\n\\n324\\n00:21:56,270 --> 00:21:58,407\\nWell, then, I think the guy\\'s scum.\\n\\n325\\n00:21:59,653 --> 00:22:02,989\\nI hate him. I mean, I actually\\nI physically hate him.\\n\\n326\\n00:22:04,389 --> 00:22:05,598\\nI always have.\\n\\n327\\n00:22:05,817 --> 00:22:09,687\\nAnd you are way too good\\nto be with a guy like that.\\n\\n328\\n00:22:10,655 --> 00:22:11,574\\nReally?\\n\\n329\\n00:22:12,279 --> 00:22:15,084\\nYou deserve to be with someone\\nwho appreciates you...\\n\\n330\\n00:22:15,295 --> 00:22:17,242\\n...and who gets how funny...\\n\\n331\\n00:22:17,450 --> 00:22:19,986\\n...and sweet and amazing...\\n\\n332\\n00:22:20,200 --> 00:22:23,198\\n...and adorable and sexy you are.\\n\\n333\\n00:22:23,416 --> 00:22:27,045\\nYou know? Someone who wakes up\\nevery morning thinking:\\n\\n334\\n00:22:27,327 --> 00:22:29,997\\n\"Oh, my God. I\\'m with Rachel!\"\\n\\n335\\n00:22:31,073 --> 00:22:33,878\\nYou know? Someone\\nwho makes you feel good.\\n\\n336\\n00:22:34,219 --> 00:22:36,257\\nLike the way I do with Julie.\\n\\n337\\n00:22:41,978 --> 00:22:44,422\\nWas there a \"second of all\"?\\n\\n338\\n00:22:50,062 --> 00:22:53,229\\nNo, I think that was the whole \"all.\"\\n\\n339\\n00:22:56,421 --> 00:22:57,579\\nI gotta go.\\n\\n340\\n00:23:01,636 --> 00:23:02,853\\nThanks.\\n\\n341\\n00:23:07,996 --> 00:23:09,932\\nNo, I swear to God, Dad!\\n\\n342\\n00:23:10,185 --> 00:23:12,398\\nThat\\'s not how they measure pants!\\n\\n343\\n00:23:18,936 --> 00:23:22,433\\nI was thinking of doing it shorter,\\nlike Andie MacDowell\\'s haircut.\\n\\n344\\n00:23:22,714 --> 00:23:25,116\\n-Yeah, I could do that.\\n-Really?\\n\\n345\\n00:23:25,355 --> 00:23:27,119\\n-You wanna do it now?\\n-Great!\\n\\n346\\n00:23:29,636 --> 00:23:30,897\\nSee you.\\n\\n347\\n00:23:32,077 --> 00:23:34,777\\nI just wanna make\\nreally sure this time.\\n\\n348\\n00:23:34,986 --> 00:23:39,396\\nAndie MacDowell is the girl from\\nFour Weddings and a Funeral, right?\\n\\n349\\n00:23:40,471 --> 00:23:41,458\\nNo.\\n\\n350\\n00:23:45,118 --> 00:23:47,349\\nThat\\'s Roddy McDowall.\\n\\n351\\n00:23:48,261 --> 00:23:51,360\\nAndie MacDowell is the guy\\nfrom Planet of the Apes.\\n\\n352\\n00:23:54,450 --> 00:23:56,316\\n-Thank you.\\n-You\\'re welcome.\\n\\n', metadata={'source': \"data/subtitles_data/Friends - [2x01] - The One with Ross's New Girlfriend.srt\"})]"
      ]
     },
     "execution_count": 2,
     "metadata": {},
     "output_type": "execute_result"
    }
   ],
   "source": [
    "doc"
   ]
  },
  {
   "cell_type": "code",
   "execution_count": 3,
   "id": "e0e2ca6e-cf24-4881-99a0-84cd55232e2b",
   "metadata": {},
   "outputs": [],
   "source": [
    "# doc[0].page_content"
   ]
  },
  {
   "cell_type": "markdown",
   "id": "8ef1d25e-7289-4462-b86d-9eac34e3149a",
   "metadata": {},
   "source": [
    "## **Loading all .srt Files**"
   ]
  },
  {
   "cell_type": "code",
   "execution_count": 4,
   "id": "a06f8b40-6b68-42b3-9743-9f99669e03a1",
   "metadata": {},
   "outputs": [],
   "source": [
    "# !pip install libmagic"
   ]
  },
  {
   "cell_type": "code",
   "execution_count": 5,
   "id": "c88c67b2-dd2a-4bd2-8227-e7b1b1ffc80b",
   "metadata": {},
   "outputs": [],
   "source": [
    "# !pip install python-magic-bin"
   ]
  },
  {
   "cell_type": "code",
   "execution_count": 6,
   "id": "50a8b22a-92d2-43fa-9f7b-568e4a00da4f",
   "metadata": {},
   "outputs": [],
   "source": [
    "# !pip install \"unstructured[all-docs]\""
   ]
  },
  {
   "cell_type": "code",
   "execution_count": 7,
   "id": "ab2bc2fe-e7e6-43d0-a89a-81453086cc0b",
   "metadata": {},
   "outputs": [
    {
     "name": "stderr",
     "output_type": "stream",
     "text": [
      "100%|████████████████████████████████████████████████████████████████████████████████| 23/23 [00:00<00:00, 2899.14it/s]\n"
     ]
    }
   ],
   "source": [
    "from langchain_community.document_loaders import DirectoryLoader\n",
    "\n",
    "loader = DirectoryLoader('data/subtitles_data', glob=\"*.srt\", show_progress=True, loader_cls=TextLoader)\n",
    "\n",
    "docs = loader.load()"
   ]
  },
  {
   "cell_type": "code",
   "execution_count": 8,
   "id": "56dd545b-416c-4815-801a-af2d2cef0a91",
   "metadata": {},
   "outputs": [
    {
     "name": "stdout",
     "output_type": "stream",
     "text": [
      "Number of Documents: 23\n"
     ]
    }
   ],
   "source": [
    "print(\"Number of Documents:\", len(docs))"
   ]
  },
  {
   "cell_type": "markdown",
   "id": "85b01f3f-e262-4929-bd03-66df1828530e",
   "metadata": {},
   "source": [
    "## **Load .csv File**"
   ]
  },
  {
   "cell_type": "code",
   "execution_count": 9,
   "id": "26e21644-9c2f-428f-838e-74f82f8aa29b",
   "metadata": {},
   "outputs": [],
   "source": [
    "from langchain_community.document_loaders.csv_loader import CSVLoader\n",
    "\n",
    "loader = CSVLoader(file_path='./data/csv_data/movies_data.csv')\n",
    "\n",
    "data = loader.load()"
   ]
  },
  {
   "cell_type": "code",
   "execution_count": 10,
   "id": "a8e7e845-ad04-4dfb-915b-171fd96e98a8",
   "metadata": {},
   "outputs": [
    {
     "name": "stdout",
     "output_type": "stream",
     "text": [
      "Type of loaded data: <class 'list'>\n",
      "Number of datapoints: 436\n",
      "Type of each datapoints: <class 'langchain_core.documents.base.Document'>\n"
     ]
    }
   ],
   "source": [
    "print(\"Type of loaded data:\", type(data))\n",
    "\n",
    "print(\"Number of datapoints:\", len(data))\n",
    "\n",
    "print(\"Type of each datapoints:\", type(data[0]))"
   ]
  },
  {
   "cell_type": "code",
   "execution_count": 11,
   "id": "b16f8f98-ac57-4a49-ba6b-308c2a5b117e",
   "metadata": {},
   "outputs": [
    {
     "data": {
      "text/plain": [
       "[Document(page_content=\"movieId: 1\\ntitle: Toy Story (1995)\\ngenres: ['Adventure', 'Animation', 'Children', 'Comedy', 'Fantasy']\", metadata={'source': './data/csv_data/movies_data.csv', 'row': 0}),\n",
       " Document(page_content=\"movieId: 2\\ntitle: Jumanji (1995)\\ngenres: ['Adventure', 'Children', 'Fantasy']\", metadata={'source': './data/csv_data/movies_data.csv', 'row': 1}),\n",
       " Document(page_content=\"movieId: 3\\ntitle: Grumpier Old Men (1995)\\ngenres: ['Comedy', 'Romance']\", metadata={'source': './data/csv_data/movies_data.csv', 'row': 2}),\n",
       " Document(page_content=\"movieId: 6\\ntitle: Heat (1995)\\ngenres: ['Action', 'Crime', 'Thriller']\", metadata={'source': './data/csv_data/movies_data.csv', 'row': 3}),\n",
       " Document(page_content=\"movieId: 7\\ntitle: Sabrina (1995)\\ngenres: ['Comedy', 'Romance']\", metadata={'source': './data/csv_data/movies_data.csv', 'row': 4})]"
      ]
     },
     "execution_count": 11,
     "metadata": {},
     "output_type": "execute_result"
    }
   ],
   "source": [
    "data[:5]"
   ]
  },
  {
   "cell_type": "code",
   "execution_count": 12,
   "id": "82f13499-a82d-48e4-bdb2-c0af80d763f1",
   "metadata": {},
   "outputs": [
    {
     "name": "stdout",
     "output_type": "stream",
     "text": [
      "movieId: 1\n",
      "title: Toy Story (1995)\n",
      "genres: ['Adventure', 'Animation', 'Children', 'Comedy', 'Fantasy']\n"
     ]
    }
   ],
   "source": [
    "print(data[0].page_content)"
   ]
  }
 ],
 "metadata": {
  "kernelspec": {
   "display_name": "Python 3 (ipykernel)",
   "language": "python",
   "name": "python3"
  },
  "language_info": {
   "codemirror_mode": {
    "name": "ipython",
    "version": 3
   },
   "file_extension": ".py",
   "mimetype": "text/x-python",
   "name": "python",
   "nbconvert_exporter": "python",
   "pygments_lexer": "ipython3",
   "version": "3.9.13"
  }
 },
 "nbformat": 4,
 "nbformat_minor": 5
}
