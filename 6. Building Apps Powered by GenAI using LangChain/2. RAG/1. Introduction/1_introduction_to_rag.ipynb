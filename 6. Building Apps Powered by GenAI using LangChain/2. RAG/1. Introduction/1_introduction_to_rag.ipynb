{
 "cells": [
  {
   "cell_type": "markdown",
   "id": "d962d94e-733d-4e88-834c-5c6e2fd11624",
   "metadata": {},
   "source": [
    "# **Introduction to Retrieval-Augmented Generation**\n",
    "\n",
    "**Few issues with LLMs are:**\n",
    "1. LLMs like GPT lack the latest information. (But this information is available via Wikipedia, Google, Bing, etc... Now if we can connect our LLM with these sources, we can build a much better application.)\n",
    "2. Many LLM applications require user-specific data that is not part of the model's training set.\n",
    "\n",
    "**Solution:**  \n",
    "The primary way of fix this issue is through Retrieval Augmented Generation (RAG). In this process, external data is retrieved and then passed to the LLM when doing the generation step.\n",
    "\n",
    "LangChain provides all the building blocks for RAG applications - from simple to complex. This section of the documentation covers everything related to the retrieval step - e.g. the fetching of the data. Although this sounds simple, it can be subtly complex. This encompasses several key modules.\n",
    "\n",
    "> **Retrieval:** Means fetching the data from external sources   \n",
    "> **Augmented:** Means enhancement or improvement by incorporating retrieved information   \n",
    "> **Generation:** Using a LLM based model, to generate human like text  \n",
    "\n",
    "\n",
    "\n",
    "<img src=\"images/langchain_data_connection.jpg\">\n",
    "\n",
    "**Document loaders**  \n",
    "Document loaders load documents from many different sources. **LangChain provides over 100 different document loaders** as well as integrations with other major providers in the space, like AirByte and Unstructured. LangChain provides integrations to load all types of documents (HTML, PDF, code) from all types of locations (private S3 buckets, public websites).\n",
    "\n",
    "**Text Splitting**  \n",
    "A key part of retrieval is fetching only the relevant parts of documents. This involves several transformation steps to prepare the documents for retrieval. One of the primary ones here is splitting (or chunking) a large document into smaller chunks. LangChain provides several transformation algorithms for doing this, as well as logic optimized for specific document types (code, markdown, etc).\n",
    "\n",
    "**Text Embedding Models**  \n",
    "Another key part of retrieval is creating embeddings for documents. Embeddings capture the semantic meaning of the text, allowing you to quickly and efficiently find other pieces of a text that are similar. **LangChain provides integrations with over 25 different embedding providers and methods**, from open-source to proprietary API, allowing you to choose the one best suited for your needs. LangChain provides a standard interface, allowing you to easily swap between models.\n",
    "\n",
    "**Vector Stores**  \n",
    "With the rise of embeddings, there has emerged a need for databases to support efficient storage and searching of these embeddings. **LangChain provides integrations with over 50 different vectorstores**, from open-source local ones to cloud-hosted proprietary ones, allowing you to choose the one best suited for your needs. LangChain exposes a standard interface, allowing you to easily swap between vector stores.\n",
    "\n",
    "**Retrievers**  \n",
    "Once the data is in the database, you still need to retrieve it. LangChain supports many different retrieval algorithms and is one of the places where we add the most value. LangChain supports basic methods that are easy to get started - namely simple semantic search. However, we have also added a collection of algorithms on top of this to increase performance. These include:\n",
    "- Parent Document Retriever: This allows you to create multiple embeddings per parent document, allowing you to look up smaller chunks but return larger context.\n",
    "- Self Query Retriever: User questions often contain a reference to something that isn't just semantic but rather expresses some logic that can best be represented as a metadata filter. Self-query allows you to parse out the semantic part of a query from other metadata filters present in the query.\n",
    "- Ensemble Retriever: Sometimes you may want to retrieve documents from multiple different sources, or using multiple different algorithms. The ensemble retriever allows you to easily do this.\n",
    "- And more!\n",
    "\n",
    "\n",
    "**Indexing**  \n",
    "The LangChain Indexing API syncs your data from any source into a vector store, helping you:\n",
    "- Avoid writing duplicated content into the vector store\n",
    "- Avoid re-writing unchanged content\n",
    "- Avoid re-computing embeddings over unchanged content\n",
    "\n",
    "All of which should save you time and money, as well as improve your vector search results.\n"
   ]
  }
 ],
 "metadata": {
  "kernelspec": {
   "display_name": "Python 3 (ipykernel)",
   "language": "python",
   "name": "python3"
  },
  "language_info": {
   "codemirror_mode": {
    "name": "ipython",
    "version": 3
   },
   "file_extension": ".py",
   "mimetype": "text/x-python",
   "name": "python",
   "nbconvert_exporter": "python",
   "pygments_lexer": "ipython3",
   "version": "3.9.13"
  }
 },
 "nbformat": 4,
 "nbformat_minor": 5
}
