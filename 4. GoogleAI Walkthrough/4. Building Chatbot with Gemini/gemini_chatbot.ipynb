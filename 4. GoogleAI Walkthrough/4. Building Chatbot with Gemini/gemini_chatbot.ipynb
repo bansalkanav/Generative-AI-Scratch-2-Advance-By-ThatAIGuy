{
 "cells": [
  {
   "cell_type": "markdown",
   "id": "46f5da68-31b4-4f66-8e3c-de6705eac5c9",
   "metadata": {},
   "source": [
    "# **Gemini Chatbot**"
   ]
  },
  {
   "cell_type": "markdown",
   "id": "9d1d7b5d-b943-4bab-bbbe-8a176fd5130e",
   "metadata": {},
   "source": [
    "### **Importing Google Gemini AI**"
   ]
  },
  {
   "cell_type": "code",
   "execution_count": 2,
   "id": "dfb7d1b8-f430-4f9b-b2a4-417a8db6313c",
   "metadata": {},
   "outputs": [],
   "source": [
    "import google.generativeai as genai"
   ]
  },
  {
   "cell_type": "markdown",
   "id": "b3e0b31b-e2db-43e7-9999-347e3c441724",
   "metadata": {},
   "source": [
    "### **Setting the API Key**"
   ]
  },
  {
   "cell_type": "code",
   "execution_count": 3,
   "id": "0ad6eea9-585d-427f-aa76-da4d26111804",
   "metadata": {},
   "outputs": [],
   "source": [
    "f = open(\"keys/.gemini.txt\")\n",
    "key = f.read()\n",
    "\n",
    "genai.configure(api_key=key)"
   ]
  },
  {
   "cell_type": "markdown",
   "id": "27c53a90-0a98-4404-87b2-1d17e5bca01f",
   "metadata": {},
   "source": [
    "### **Conversation AI using Gemini AI**"
   ]
  },
  {
   "cell_type": "code",
   "execution_count": 8,
   "id": "513a14c4-0211-473c-80d8-90a918376cac",
   "metadata": {},
   "outputs": [
    {
     "data": {
      "text/plain": [
       "ChatSession(\n",
       "    model=genai.GenerativeModel(\n",
       "        model_name='models/gemini-pro',\n",
       "        generation_config={},\n",
       "        safety_settings={},\n",
       "        tools=None,\n",
       "        system_instruction=None,\n",
       "    ),\n",
       "    history=[]\n",
       ")"
      ]
     },
     "execution_count": 8,
     "metadata": {},
     "output_type": "execute_result"
    }
   ],
   "source": [
    "model = genai.GenerativeModel('gemini-pro')\n",
    "\n",
    "chat = model.start_chat(history=[])\n",
    "\n",
    "chat"
   ]
  },
  {
   "cell_type": "markdown",
   "id": "233ea38d-c1a5-4b0f-b8ce-ca080f0d0d9b",
   "metadata": {},
   "source": [
    "Gemini enables you to have freeform conversations across multiple turns. The `ChatSession` class simplifies the process by managing the state of the conversation, so unlike with `generate_content`, you do not have to store the conversation history as a list."
   ]
  },
  {
   "cell_type": "code",
   "execution_count": 9,
   "id": "b146e8d1-ecb6-438e-ad05-cc191d04f817",
   "metadata": {},
   "outputs": [
    {
     "data": {
      "text/plain": [
       "[]"
      ]
     },
     "execution_count": 9,
     "metadata": {},
     "output_type": "execute_result"
    }
   ],
   "source": [
    "chat.history"
   ]
  },
  {
   "cell_type": "code",
   "execution_count": 10,
   "id": "59c37c2b-4fdb-4400-82d6-b227614ed1a5",
   "metadata": {},
   "outputs": [
    {
     "name": "stdout",
     "output_type": "stream",
     "text": [
      "**Logistic Regression**\n",
      "\n",
      "Logistic regression is a statistical model used to predict the probability of an event occurring by fitting data to a logistic function. It is commonly used in binary classification problems, where the outcome variable has two possible values (e.g., yes/no, true/false).\n",
      "\n",
      "**Mathematical Model:**\n",
      "\n",
      "The logistic regression model takes the form:\n",
      "\n",
      "```\n",
      "p(y = 1 | x) = 1 / (1 + e^(-β0 - β1x))\n",
      "```\n",
      "\n",
      "where:\n",
      "\n",
      "* y is the predicted probability of the event occurring (values between 0 and 1)\n",
      "* x is the independent variable\n",
      "* β0 is the intercept parameter\n",
      "* β1 is the slope parameter\n",
      "\n",
      "**Interpretation of Parameters:**\n",
      "\n",
      "* **Intercept (β0):** Represents the probability of the event occurring when x = 0.\n",
      "* **Slope (β1):** Indicates how the probability of the event changes as x increases. A positive β1 means that the probability increases as x increases, while a negative β1 indicates a decrease.\n",
      "\n",
      "**Steps to Build a Logistic Regression Model:**\n",
      "\n",
      "1. **Gather data:** Collect a dataset with independent and dependent variables.\n",
      "2. **Prepare data:** Clean and transform the data as necessary (e.g., dealing with missing values or outliers).\n",
      "3. **Encode variables:** If the independent variables are categorical, encode them using dummy variables or one-hot encoding.\n",
      "4. **Train the model:** Fit the logistic regression model to the data using an optimization algorithm (e.g., gradient descent).\n",
      "5. **Validate the model:** Evaluate the model's performance on a separate validation set to avoid overfitting.\n",
      "6. **Interpret the results:** Examine the estimated coefficients (β0 and β1) to understand the relationship between the independent and dependent variables.\n",
      "\n",
      "**Advantages of Logistic Regression:**\n",
      "\n",
      "* Handles binary classification problems well.\n",
      "* Provides interpretable results (coefficients indicate the importance of variables).\n",
      "* Relatively simple to implement and understand.\n",
      "\n",
      "**Disadvantages of Logistic Regression:**\n",
      "\n",
      "* Assumes linearity in the relationship between variables and probabilities.\n",
      "* Not suitable for multi-class classification problems.\n",
      "* Can suffer from overfitting or underfitting issues.\n"
     ]
    }
   ],
   "source": [
    "user_input = \"Explain the concept of Logistic Regression.\"\n",
    "\n",
    "response = chat.send_message(user_input)\n",
    "\n",
    "print(response.text)"
   ]
  },
  {
   "cell_type": "code",
   "execution_count": 11,
   "id": "50808f14-194d-4229-8013-4510ccf06ae1",
   "metadata": {},
   "outputs": [
    {
     "data": {
      "text/plain": [
       "[parts {\n",
       "   text: \"Explain the concept of Logistic Regression.\"\n",
       " }\n",
       " role: \"user\",\n",
       " parts {\n",
       "   text: \"**Logistic Regression**\\n\\nLogistic regression is a statistical model used to predict the probability of an event occurring by fitting data to a logistic function. It is commonly used in binary classification problems, where the outcome variable has two possible values (e.g., yes/no, true/false).\\n\\n**Mathematical Model:**\\n\\nThe logistic regression model takes the form:\\n\\n```\\np(y = 1 | x) = 1 / (1 + e^(-β0 - β1x))\\n```\\n\\nwhere:\\n\\n* y is the predicted probability of the event occurring (values between 0 and 1)\\n* x is the independent variable\\n* β0 is the intercept parameter\\n* β1 is the slope parameter\\n\\n**Interpretation of Parameters:**\\n\\n* **Intercept (β0):** Represents the probability of the event occurring when x = 0.\\n* **Slope (β1):** Indicates how the probability of the event changes as x increases. A positive β1 means that the probability increases as x increases, while a negative β1 indicates a decrease.\\n\\n**Steps to Build a Logistic Regression Model:**\\n\\n1. **Gather data:** Collect a dataset with independent and dependent variables.\\n2. **Prepare data:** Clean and transform the data as necessary (e.g., dealing with missing values or outliers).\\n3. **Encode variables:** If the independent variables are categorical, encode them using dummy variables or one-hot encoding.\\n4. **Train the model:** Fit the logistic regression model to the data using an optimization algorithm (e.g., gradient descent).\\n5. **Validate the model:** Evaluate the model\\'s performance on a separate validation set to avoid overfitting.\\n6. **Interpret the results:** Examine the estimated coefficients (β0 and β1) to understand the relationship between the independent and dependent variables.\\n\\n**Advantages of Logistic Regression:**\\n\\n* Handles binary classification problems well.\\n* Provides interpretable results (coefficients indicate the importance of variables).\\n* Relatively simple to implement and understand.\\n\\n**Disadvantages of Logistic Regression:**\\n\\n* Assumes linearity in the relationship between variables and probabilities.\\n* Not suitable for multi-class classification problems.\\n* Can suffer from overfitting or underfitting issues.\"\n",
       " }\n",
       " role: \"model\"]"
      ]
     },
     "execution_count": 11,
     "metadata": {},
     "output_type": "execute_result"
    }
   ],
   "source": [
    "chat.history"
   ]
  },
  {
   "cell_type": "code",
   "execution_count": 12,
   "id": "eaae305c-b6eb-42b5-8a4e-6b61612e1e45",
   "metadata": {},
   "outputs": [
    {
     "name": "stdout",
     "output_type": "stream",
     "text": [
      ">> user: Explain the concept of Logistic Regression.\n",
      ">> model: **Logistic Regression**\n",
      "\n",
      "Logistic regression is a statistical model used to predict the probability of an event occurring by fitting data to a logistic function. It is commonly used in binary classification problems, where the outcome variable has two possible values (e.g., yes/no, true/false).\n",
      "\n",
      "**Mathematical Model:**\n",
      "\n",
      "The logistic regression model takes the form:\n",
      "\n",
      "```\n",
      "p(y = 1 | x) = 1 / (1 + e^(-β0 - β1x))\n",
      "```\n",
      "\n",
      "where:\n",
      "\n",
      "* y is the predicted probability of the event occurring (values between 0 and 1)\n",
      "* x is the independent variable\n",
      "* β0 is the intercept parameter\n",
      "* β1 is the slope parameter\n",
      "\n",
      "**Interpretation of Parameters:**\n",
      "\n",
      "* **Intercept (β0):** Represents the probability of the event occurring when x = 0.\n",
      "* **Slope (β1):** Indicates how the probability of the event changes as x increases. A positive β1 means that the probability increases as x increases, while a negative β1 indicates a decrease.\n",
      "\n",
      "**Steps to Build a Logistic Regression Model:**\n",
      "\n",
      "1. **Gather data:** Collect a dataset with independent and dependent variables.\n",
      "2. **Prepare data:** Clean and transform the data as necessary (e.g., dealing with missing values or outliers).\n",
      "3. **Encode variables:** If the independent variables are categorical, encode them using dummy variables or one-hot encoding.\n",
      "4. **Train the model:** Fit the logistic regression model to the data using an optimization algorithm (e.g., gradient descent).\n",
      "5. **Validate the model:** Evaluate the model's performance on a separate validation set to avoid overfitting.\n",
      "6. **Interpret the results:** Examine the estimated coefficients (β0 and β1) to understand the relationship between the independent and dependent variables.\n",
      "\n",
      "**Advantages of Logistic Regression:**\n",
      "\n",
      "* Handles binary classification problems well.\n",
      "* Provides interpretable results (coefficients indicate the importance of variables).\n",
      "* Relatively simple to implement and understand.\n",
      "\n",
      "**Disadvantages of Logistic Regression:**\n",
      "\n",
      "* Assumes linearity in the relationship between variables and probabilities.\n",
      "* Not suitable for multi-class classification problems.\n",
      "* Can suffer from overfitting or underfitting issues.\n"
     ]
    }
   ],
   "source": [
    "for message in chat.history:\n",
    "    print(f\">> {message.role}: {message.parts[0].text}\" )"
   ]
  }
 ],
 "metadata": {
  "kernelspec": {
   "display_name": "Python 3 (ipykernel)",
   "language": "python",
   "name": "python3"
  },
  "language_info": {
   "codemirror_mode": {
    "name": "ipython",
    "version": 3
   },
   "file_extension": ".py",
   "mimetype": "text/x-python",
   "name": "python",
   "nbconvert_exporter": "python",
   "pygments_lexer": "ipython3",
   "version": "3.9.13"
  }
 },
 "nbformat": 4,
 "nbformat_minor": 5
}
