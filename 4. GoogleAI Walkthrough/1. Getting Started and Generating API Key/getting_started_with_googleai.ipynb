{
 "cells": [
  {
   "cell_type": "markdown",
   "id": "b1805174-f588-40d9-9957-48813915107b",
   "metadata": {},
   "source": [
    "# **Getting Started with GoogleAI**\n",
    "\n",
    "To get started, you’ll need to have a standard Google account. If you haven't set one up yet, please visit Google's account creation page to register for a new account. This will be essential for accessing your project's full range of features and services. Make sure you have created an account at https://accounts.google.com/SignUp.\n",
    "\n",
    "**Important Note:**\n",
    "The following steps will only work with standard google accounts. (i.e. user_name@**gmail.com**)\n",
    "\n",
    "### **GoogleAI Pricing**\n",
    "**[Click Here](https://ai.google.dev/pricing)** to access the pricing of GoogleAI Models."
   ]
  },
  {
   "cell_type": "markdown",
   "id": "3acf4951-679e-4f5b-86b5-12a57648c7af",
   "metadata": {},
   "source": [
    "## **Step 1 - Create a Project in the Google Cloud Platform Console**\n",
    "\n",
    "1. Go to Google Cloud Console Platform. **[Click Here](https://console.cloud.google.com/home/dashboard)**\n",
    "2. `Select a Project` you want to work with from the drop-down located at the top-left corner, adjacent to the Google Cloud logo.\n",
    "<img style=\"float: left;\" width=\"500\" height=\"600\" src=\"images/googleai_1.JPG\">\n",
    "<img style=\"float: center;\" width=\"500\" height=\"600\" src=\"images/googleai_2.JPG\">\n",
    "3. You can also click on **NEW PROJECT** to create a new project.  \n",
    "<br><img width=\"500\" height=\"600\" src=\"images/googleai_3.JPG\">\n",
    "4. In the **New Project** creation page, enter the **Project Name** that you want (For Example gemini-demo) and click on **CREATE**.\n",
    "<br><img width=\"300\" height=\"500\" src=\"images/googleai_4.JPG\">\n",
    "5. You will be redirected to the welcome page of the console, where on the notifications area, you will see the notification of the new project created, Click **SELECT PROJECT**. Alternatively, you can also select the new project from the drop-down located at the top-left corner, adjacent to the Google Cloud logo.\n",
    "<img style=\"float: left;\" width=\"500\" height=\"600\" src=\"images/googleai_5.JPG\">\n",
    "<img style=\"float: center;\" width=\"500\" height=\"600\" src=\"images/googleai_6.JPG\">\n",
    "6. You will be redirected to the dashboard of your selected project in the Google Cloud console.\n",
    "<br><img width=\"500\" height=\"600\" src=\"images/googleai_7.JPG\">"
   ]
  },
  {
   "cell_type": "markdown",
   "id": "e7ebb06a-dc40-4722-8c63-2bebeb3cce6c",
   "metadata": {},
   "source": [
    "## **Step 2 - Creating an API Key from Google AI Studio**\n",
    "\n",
    "1. Go to Google AI Studio’s API key page (sign in with your Google account that you use to create the project in the GCP console). Click on the **CREATE API KEY** button. **[Click Here](https://aistudio.google.com/app/apikey)**\n",
    "<br><img width=\"500\" height=\"600\" src=\"images/googleai_8.JPG\">\n",
    "2. In the **Create API Key dialogue box**, select the project that we created on the GCP console.\n",
    "<br><img width=\"500\" height=\"600\" src=\"images/googleai_9.JPG\">\n",
    "3. Then click on **Create API Key in the existing project** button.\n",
    "<br><img width=\"500\" height=\"600\" src=\"images/googleai_10.JPG\">\n",
    "4. Now you can press the **COPY** button and use the API Key for your projects.\n",
    "<br><img width=\"500\" height=\"600\" src=\"images/googleai_11.JPG\">"
   ]
  }
 ],
 "metadata": {
  "kernelspec": {
   "display_name": "Python 3 (ipykernel)",
   "language": "python",
   "name": "python3"
  },
  "language_info": {
   "codemirror_mode": {
    "name": "ipython",
    "version": 3
   },
   "file_extension": ".py",
   "mimetype": "text/x-python",
   "name": "python",
   "nbconvert_exporter": "python",
   "pygments_lexer": "ipython3",
   "version": "3.9.6"
  }
 },
 "nbformat": 4,
 "nbformat_minor": 5
}
