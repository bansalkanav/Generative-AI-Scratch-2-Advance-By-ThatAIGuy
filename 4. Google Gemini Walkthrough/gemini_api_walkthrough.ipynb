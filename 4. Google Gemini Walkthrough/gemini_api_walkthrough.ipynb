{
 "cells": [
  {
   "cell_type": "code",
   "execution_count": 2,
   "id": "d51ed763-72b9-4f29-b10e-b75c537597c9",
   "metadata": {},
   "outputs": [],
   "source": [
    "# ! pip install google-generativeai"
   ]
  },
  {
   "cell_type": "markdown",
   "id": "9d1d7b5d-b943-4bab-bbbe-8a176fd5130e",
   "metadata": {},
   "source": [
    "## **Importing Google Gemini AI**"
   ]
  },
  {
   "cell_type": "code",
   "execution_count": 3,
   "id": "dfb7d1b8-f430-4f9b-b2a4-417a8db6313c",
   "metadata": {},
   "outputs": [],
   "source": [
    "import google.generativeai as genai"
   ]
  },
  {
   "cell_type": "markdown",
   "id": "b3e0b31b-e2db-43e7-9999-347e3c441724",
   "metadata": {},
   "source": [
    "## **Setting the API Key**"
   ]
  },
  {
   "cell_type": "code",
   "execution_count": 4,
   "id": "0ad6eea9-585d-427f-aa76-da4d26111804",
   "metadata": {},
   "outputs": [],
   "source": [
    "f = open(\"keys/.gemini.txt\")\n",
    "key = f.read()\n",
    "\n",
    "genai.configure(api_key=key)"
   ]
  },
  {
   "cell_type": "markdown",
   "id": "991360dd-a618-479a-904d-5e07661e2697",
   "metadata": {},
   "source": [
    "## **Available Models**"
   ]
  },
  {
   "cell_type": "code",
   "execution_count": 6,
   "id": "672b0037-b730-4955-9402-bbecf0f27fe1",
   "metadata": {},
   "outputs": [
    {
     "name": "stdout",
     "output_type": "stream",
     "text": [
      "models/gemini-1.0-pro\n",
      "models/gemini-1.0-pro-001\n",
      "models/gemini-1.0-pro-latest\n",
      "models/gemini-1.0-pro-vision-latest\n",
      "models/gemini-1.5-pro-latest\n",
      "models/gemini-pro\n",
      "models/gemini-pro-vision\n"
     ]
    }
   ],
   "source": [
    "for m in genai.list_models():\n",
    "  if 'generateContent' in m.supported_generation_methods:\n",
    "    print(m.name)"
   ]
  },
  {
   "cell_type": "markdown",
   "id": "7ef743af-5075-469a-9126-200e13439f7c",
   "metadata": {},
   "source": [
    "## **Prompting the Gemini Model**"
   ]
  },
  {
   "cell_type": "code",
   "execution_count": 7,
   "id": "74ced0d0-98ef-48a5-bb03-8372a4576604",
   "metadata": {},
   "outputs": [
    {
     "name": "stdout",
     "output_type": "stream",
     "text": [
      "planet.\n"
     ]
    }
   ],
   "source": [
    "model = genai.GenerativeModel(model_name=\"gemini-pro\")\n",
    "\n",
    "user_prompt = \"\"\"Complete the following:\n",
    "                In our solar system, Earth is a \"\"\"\n",
    "\n",
    "response = model.generate_content(user_prompt)\n",
    "\n",
    "print(response.text)"
   ]
  },
  {
   "cell_type": "code",
   "execution_count": 8,
   "id": "ab0e6f5b-63c6-4d7d-a488-ed22c6344a77",
   "metadata": {},
   "outputs": [
    {
     "name": "stdout",
     "output_type": "stream",
     "text": [
      "In our solar system, Earth is a terrestrial or rocky planet, composed primarily of metals and minerals. It is the third planet from the Sun, residing in the inner solar system.\n"
     ]
    }
   ],
   "source": [
    "model = genai.GenerativeModel(model_name=\"gemini-pro\")\n",
    "\n",
    "user_prompt = \"\"\"Generate some factual information to complete the following in 2-3 lines:\n",
    "                In our solar system, Earth is a \"\"\"\n",
    "\n",
    "response = model.generate_content(user_prompt)\n",
    "\n",
    "print(response.text)"
   ]
  },
  {
   "cell_type": "markdown",
   "id": "59aba55e-c0a3-416e-8c94-4ac1ffeae39c",
   "metadata": {},
   "source": [
    "## **Adding a System Prompt**\n",
    "\n",
    "**Important Note:** System Prompt can be specified using `system_instruction`. `system_instruction` is not enabled for models/gemini-pro."
   ]
  },
  {
   "cell_type": "code",
   "execution_count": 11,
   "id": "9b18e562-75f5-4eb0-a312-f7a30fccbec7",
   "metadata": {},
   "outputs": [
    {
     "name": "stdout",
     "output_type": "stream",
     "text": [
      "terrestrial planet, the third planet from the Sun, and the only astronomical object known to harbor life. \n",
      "\n"
     ]
    }
   ],
   "source": [
    "model = genai.GenerativeModel(model_name=\"models/gemini-1.5-pro-latest\", \n",
    "                              system_instruction=\"\"\"Generate some factual information to complete the user input. \n",
    "                              Completion must have maximum 2-3 lines.\"\"\")\n",
    "\n",
    "user_prompt = \"\"\"In our solar system, Earth is a \"\"\"\n",
    "\n",
    "response = model.generate_content(user_prompt)\n",
    "\n",
    "print(response.text)"
   ]
  },
  {
   "cell_type": "markdown",
   "id": "27c53a90-0a98-4404-87b2-1d17e5bca01f",
   "metadata": {},
   "source": [
    "## **Conversation AI using Gemini AI**"
   ]
  },
  {
   "cell_type": "code",
   "execution_count": 12,
   "id": "513a14c4-0211-473c-80d8-90a918376cac",
   "metadata": {},
   "outputs": [
    {
     "data": {
      "text/plain": [
       "ChatSession(\n",
       "    model=genai.GenerativeModel(\n",
       "        model_name='models/gemini-pro',\n",
       "        generation_config={},\n",
       "        safety_settings={},\n",
       "        tools=None,\n",
       "        system_instruction=None,\n",
       "    ),\n",
       "    history=[]\n",
       ")"
      ]
     },
     "execution_count": 12,
     "metadata": {},
     "output_type": "execute_result"
    }
   ],
   "source": [
    "model = genai.GenerativeModel('gemini-pro')\n",
    "\n",
    "chat = model.start_chat(history=[])\n",
    "\n",
    "chat"
   ]
  },
  {
   "cell_type": "markdown",
   "id": "233ea38d-c1a5-4b0f-b8ce-ca080f0d0d9b",
   "metadata": {},
   "source": [
    "Gemini enables you to have freeform conversations across multiple turns. The `ChatSession` class simplifies the process by managing the state of the conversation, so unlike with `generate_content`, you do not have to store the conversation history as a list."
   ]
  },
  {
   "cell_type": "code",
   "execution_count": 14,
   "id": "b146e8d1-ecb6-438e-ad05-cc191d04f817",
   "metadata": {},
   "outputs": [
    {
     "data": {
      "text/plain": [
       "[]"
      ]
     },
     "execution_count": 14,
     "metadata": {},
     "output_type": "execute_result"
    }
   ],
   "source": [
    "chat.history"
   ]
  },
  {
   "cell_type": "code",
   "execution_count": 15,
   "id": "59c37c2b-4fdb-4400-82d6-b227614ed1a5",
   "metadata": {},
   "outputs": [
    {
     "name": "stdout",
     "output_type": "stream",
     "text": [
      "**Logistic Regression**\n",
      "\n",
      "Logistic regression is a statistical model used to predict the probability of an event occurring, typically used for binary classification problems (where the output is either 0 or 1). It uses a logistic function to model the relationship between independent variables (predictors) and the probability of the dependent variable (target).\n",
      "\n",
      "**Logistic Function:**\n",
      "\n",
      "The logistic function, also known as the sigmoid function, is a sigmoidal curve that maps a real number input to a probability between 0 and 1. It is defined as:\n",
      "\n",
      "```\n",
      "f(x) = 1 / (1 + e^(-x))\n",
      "```\n",
      "\n",
      "**Model:**\n",
      "\n",
      "The logistic regression model takes the form:\n",
      "\n",
      "```\n",
      "P(y = 1 | x) = 1 / (1 + e^(-(b + w1x1 + w2x2 + ... + wnxn)))\n",
      "```\n",
      "\n",
      "where:\n",
      "\n",
      "* P(y = 1 | x) is the probability of the event occurring given the input data vector x\n",
      "* b is the intercept\n",
      "* w1, w2, ..., wn are the coefficients (weights) for each independent variable xi\n",
      "\n",
      "**Interpretation:**\n",
      "\n",
      "The coefficients (weights) in the logistic regression model represent the relative importance of each independent variable in predicting the probability of the event occurring. A positive coefficient indicates that the variable increases the probability of the event, while a negative coefficient indicates a decrease.\n",
      "\n",
      "**Assumptions:**\n",
      "\n",
      "Logistic regression makes the following assumptions:\n",
      "\n",
      "* The independent variables are linearly related to the log-odds of the event occurring.\n",
      "* The observations are independent.\n",
      "\n",
      "**Applications:**\n",
      "\n",
      "Logistic regression is widely used in various fields, including:\n",
      "\n",
      "* Medical diagnosis\n",
      "* Credit risk assessment\n",
      "* Fraud detection\n",
      "* Marketing segmentation\n",
      "* Customer churn prediction\n",
      "\n",
      "**Advantages:**\n",
      "\n",
      "* Easy to interpret and implement\n",
      "* Robust to outliers\n",
      "* Suitable for binary classification problems\n",
      "\n",
      "**Disadvantages:**\n",
      "\n",
      "* Not suitable for multi-class classification problems\n",
      "* Requires large sample sizes\n"
     ]
    }
   ],
   "source": [
    "user_input = \"Explain the concept of Logistic Regression.\"\n",
    "\n",
    "response = chat.send_message(user_input)\n",
    "\n",
    "print(response.text)"
   ]
  },
  {
   "cell_type": "code",
   "execution_count": 16,
   "id": "50808f14-194d-4229-8013-4510ccf06ae1",
   "metadata": {},
   "outputs": [
    {
     "data": {
      "text/plain": [
       "[parts {\n",
       "   text: \"Explain the concept of Logistic Regression.\"\n",
       " }\n",
       " role: \"user\",\n",
       " parts {\n",
       "   text: \"**Logistic Regression**\\n\\nLogistic regression is a statistical model used to predict the probability of an event occurring, typically used for binary classification problems (where the output is either 0 or 1). It uses a logistic function to model the relationship between independent variables (predictors) and the probability of the dependent variable (target).\\n\\n**Logistic Function:**\\n\\nThe logistic function, also known as the sigmoid function, is a sigmoidal curve that maps a real number input to a probability between 0 and 1. It is defined as:\\n\\n```\\nf(x) = 1 / (1 + e^(-x))\\n```\\n\\n**Model:**\\n\\nThe logistic regression model takes the form:\\n\\n```\\nP(y = 1 | x) = 1 / (1 + e^(-(b + w1x1 + w2x2 + ... + wnxn)))\\n```\\n\\nwhere:\\n\\n* P(y = 1 | x) is the probability of the event occurring given the input data vector x\\n* b is the intercept\\n* w1, w2, ..., wn are the coefficients (weights) for each independent variable xi\\n\\n**Interpretation:**\\n\\nThe coefficients (weights) in the logistic regression model represent the relative importance of each independent variable in predicting the probability of the event occurring. A positive coefficient indicates that the variable increases the probability of the event, while a negative coefficient indicates a decrease.\\n\\n**Assumptions:**\\n\\nLogistic regression makes the following assumptions:\\n\\n* The independent variables are linearly related to the log-odds of the event occurring.\\n* The observations are independent.\\n\\n**Applications:**\\n\\nLogistic regression is widely used in various fields, including:\\n\\n* Medical diagnosis\\n* Credit risk assessment\\n* Fraud detection\\n* Marketing segmentation\\n* Customer churn prediction\\n\\n**Advantages:**\\n\\n* Easy to interpret and implement\\n* Robust to outliers\\n* Suitable for binary classification problems\\n\\n**Disadvantages:**\\n\\n* Not suitable for multi-class classification problems\\n* Requires large sample sizes\"\n",
       " }\n",
       " role: \"model\"]"
      ]
     },
     "execution_count": 16,
     "metadata": {},
     "output_type": "execute_result"
    }
   ],
   "source": [
    "chat.history"
   ]
  },
  {
   "cell_type": "code",
   "execution_count": 18,
   "id": "eaae305c-b6eb-42b5-8a4e-6b61612e1e45",
   "metadata": {},
   "outputs": [
    {
     "name": "stdout",
     "output_type": "stream",
     "text": [
      ">> user: Explain the concept of Logistic Regression.\n",
      ">> model: **Logistic Regression**\n",
      "\n",
      "Logistic regression is a statistical model used to predict the probability of an event occurring, typically used for binary classification problems (where the output is either 0 or 1). It uses a logistic function to model the relationship between independent variables (predictors) and the probability of the dependent variable (target).\n",
      "\n",
      "**Logistic Function:**\n",
      "\n",
      "The logistic function, also known as the sigmoid function, is a sigmoidal curve that maps a real number input to a probability between 0 and 1. It is defined as:\n",
      "\n",
      "```\n",
      "f(x) = 1 / (1 + e^(-x))\n",
      "```\n",
      "\n",
      "**Model:**\n",
      "\n",
      "The logistic regression model takes the form:\n",
      "\n",
      "```\n",
      "P(y = 1 | x) = 1 / (1 + e^(-(b + w1x1 + w2x2 + ... + wnxn)))\n",
      "```\n",
      "\n",
      "where:\n",
      "\n",
      "* P(y = 1 | x) is the probability of the event occurring given the input data vector x\n",
      "* b is the intercept\n",
      "* w1, w2, ..., wn are the coefficients (weights) for each independent variable xi\n",
      "\n",
      "**Interpretation:**\n",
      "\n",
      "The coefficients (weights) in the logistic regression model represent the relative importance of each independent variable in predicting the probability of the event occurring. A positive coefficient indicates that the variable increases the probability of the event, while a negative coefficient indicates a decrease.\n",
      "\n",
      "**Assumptions:**\n",
      "\n",
      "Logistic regression makes the following assumptions:\n",
      "\n",
      "* The independent variables are linearly related to the log-odds of the event occurring.\n",
      "* The observations are independent.\n",
      "\n",
      "**Applications:**\n",
      "\n",
      "Logistic regression is widely used in various fields, including:\n",
      "\n",
      "* Medical diagnosis\n",
      "* Credit risk assessment\n",
      "* Fraud detection\n",
      "* Marketing segmentation\n",
      "* Customer churn prediction\n",
      "\n",
      "**Advantages:**\n",
      "\n",
      "* Easy to interpret and implement\n",
      "* Robust to outliers\n",
      "* Suitable for binary classification problems\n",
      "\n",
      "**Disadvantages:**\n",
      "\n",
      "* Not suitable for multi-class classification problems\n",
      "* Requires large sample sizes\n"
     ]
    }
   ],
   "source": [
    "for message in chat.history:\n",
    "    print(f\">> {message.role}: {message.parts[0].text}\" )"
   ]
  },
  {
   "cell_type": "code",
   "execution_count": null,
   "id": "8ce35971-c8b9-4c9b-96ea-cc77b0f019f9",
   "metadata": {},
   "outputs": [],
   "source": []
  }
 ],
 "metadata": {
  "kernelspec": {
   "display_name": "Python 3 (ipykernel)",
   "language": "python",
   "name": "python3"
  },
  "language_info": {
   "codemirror_mode": {
    "name": "ipython",
    "version": 3
   },
   "file_extension": ".py",
   "mimetype": "text/x-python",
   "name": "python",
   "nbconvert_exporter": "python",
   "pygments_lexer": "ipython3",
   "version": "3.9.13"
  }
 },
 "nbformat": 4,
 "nbformat_minor": 5
}
